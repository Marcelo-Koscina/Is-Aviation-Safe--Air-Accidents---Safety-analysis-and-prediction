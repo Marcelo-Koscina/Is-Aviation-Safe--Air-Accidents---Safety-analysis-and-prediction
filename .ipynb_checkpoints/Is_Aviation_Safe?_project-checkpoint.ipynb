{
 "cells": [
  {
   "cell_type": "markdown",
   "id": "ac2218e9",
   "metadata": {},
   "source": [
    "                            AVIATION SAFETY ANALYSIS AND CLASSIFIER PREDICTION MODEL\n"
   ]
  },
  {
   "cell_type": "markdown",
   "id": "186b05f8",
   "metadata": {
    "ExecuteTime": {
     "end_time": "2022-07-29T04:00:29.444212Z",
     "start_time": "2022-07-29T04:00:29.415680Z"
    }
   },
   "source": [
    "# IMPORT LIBRARIES"
   ]
  },
  {
   "cell_type": "code",
   "execution_count": 1,
   "id": "88fc544b",
   "metadata": {
    "ExecuteTime": {
     "end_time": "2022-09-15T14:08:54.309242Z",
     "start_time": "2022-09-15T14:08:43.948328Z"
    }
   },
   "outputs": [],
   "source": [
    "import pandas as pd\n",
    "import os\n",
    "import numpy as np\n",
    "import seaborn as sns \n",
    "from sklearn import metrics\n",
    "from sklearn.preprocessing import LabelEncoder\n",
    "from sklearn.model_selection import train_test_split\n",
    "from sklearn.linear_model import LogisticRegression\n",
    "from xgboost import XGBClassifier,plot_tree\n",
    "from sklearn.tree import DecisionTreeClassifier, plot_tree\n",
    "from sklearn.preprocessing import StandardScaler\n",
    "from sklearn.pipeline import Pipeline\n",
    "from pycaret.classification import *\n",
    "import matplotlib.pyplot as plt \n",
    "from sklearn.metrics import confusion_matrix, plot_confusion_matrix,accuracy_score,precision_score,recall_score,plot_roc_curve\n",
    "\n"
   ]
  },
  {
   "cell_type": "markdown",
   "id": "260bcb4b",
   "metadata": {},
   "source": [
    "# EXTRACT AND MERGE FILES"
   ]
  },
  {
   "cell_type": "code",
   "execution_count": 2,
   "id": "16d67f8a",
   "metadata": {
    "ExecuteTime": {
     "end_time": "2022-09-15T14:08:54.491244Z",
     "start_time": "2022-09-15T14:08:54.312578Z"
    }
   },
   "outputs": [],
   "source": [
    "# Data set extraction from ICAO API website. \n",
    "#https://www.kaggle.com/datasets/marcelotanis/air-accidents-from-jan2008-to-may2022-icao\n",
    "\n",
    "a2008 = pd.read_csv('data1/Accidents2008.csv')\n",
    "a2009 = pd.read_csv('data1/Accidents2009.csv')\n",
    "a2010 = pd.read_csv('data1/Accidents2010.csv')\n",
    "a2011 = pd.read_csv('data1/Accidents2011.csv')\n",
    "a2012 = pd.read_csv('data1/Accidents2012.csv')\n",
    "a2013 = pd.read_csv('data1/Accidents2013.csv')\n",
    "a2014 = pd.read_csv('data1/Accidents2014.csv')\n",
    "a2015 = pd.read_csv('data1/Accidents2015.csv')\n",
    "a2016 = pd.read_csv('data1/Accidents2016.csv')\n",
    "a2017 = pd.read_csv('data1/Accidents2017.csv')\n",
    "a2018 = pd.read_csv('data1/Accidents2018.csv')\n",
    "a2019 = pd.read_csv('data1/Accidents2019.csv')\n",
    "a2020 = pd.read_csv('data1/Accidents2020.csv')\n",
    "a2021 = pd.read_csv('data1/Accidents2021.csv')\n",
    "a2022 = pd.read_csv('data1/Accidents2022.csv')"
   ]
  },
  {
   "cell_type": "code",
   "execution_count": 3,
   "id": "f043963f",
   "metadata": {
    "ExecuteTime": {
     "end_time": "2022-09-15T14:08:54.500988Z",
     "start_time": "2022-09-15T14:08:54.493958Z"
    }
   },
   "outputs": [],
   "source": [
    "#list all data sets\n",
    "all_a = [a2008,a2009,a2010,a2011,a2012,a2013,a2014,a2015,a2016,a2017,a2018,a2019,a2020,a2021,a2022]"
   ]
  },
  {
   "cell_type": "code",
   "execution_count": 4,
   "id": "9ae43dfe",
   "metadata": {
    "ExecuteTime": {
     "end_time": "2022-09-15T14:08:54.525746Z",
     "start_time": "2022-09-15T14:08:54.507329Z"
    }
   },
   "outputs": [],
   "source": [
    "#concat all data sets. RMK: This conncatenate 'ac' dataset is available at Kaggle website, named 'ICAO-accidents'\n",
    "# dataset link below:\n",
    "#https://www.kaggle.com/datasets/marcelotanis/air-accidents-from-jan2008-to-may2022-icao\n",
    "ac = pd.concat(all_a)"
   ]
  },
  {
   "cell_type": "markdown",
   "id": "01158e02",
   "metadata": {},
   "source": [
    "# EXPLORATORY ANALYSIS, DATA SET CLEANING AND MANIPULATION"
   ]
  },
  {
   "cell_type": "code",
   "execution_count": 5,
   "id": "7a062865",
   "metadata": {
    "ExecuteTime": {
     "end_time": "2022-09-15T14:08:54.600516Z",
     "start_time": "2022-09-15T14:08:54.534514Z"
    },
    "scrolled": true
   },
   "outputs": [
    {
     "data": {
      "text/html": [
       "<div>\n",
       "<style scoped>\n",
       "    .dataframe tbody tr th:only-of-type {\n",
       "        vertical-align: middle;\n",
       "    }\n",
       "\n",
       "    .dataframe tbody tr th {\n",
       "        vertical-align: top;\n",
       "    }\n",
       "\n",
       "    .dataframe thead th {\n",
       "        text-align: right;\n",
       "    }\n",
       "</style>\n",
       "<table border=\"1\" class=\"dataframe\">\n",
       "  <thead>\n",
       "    <tr style=\"text-align: right;\">\n",
       "      <th></th>\n",
       "      <th>Date</th>\n",
       "      <th>StateOfOccurrence</th>\n",
       "      <th>Location</th>\n",
       "      <th>Model</th>\n",
       "      <th>Registration</th>\n",
       "      <th>Operator</th>\n",
       "      <th>StateOfOperator</th>\n",
       "      <th>StateOfRegistry</th>\n",
       "      <th>FlightPhase</th>\n",
       "      <th>Class</th>\n",
       "      <th>Fatalities</th>\n",
       "      <th>Over2250</th>\n",
       "      <th>Over5700</th>\n",
       "      <th>ScheduledCommercial</th>\n",
       "      <th>InjuryLevel</th>\n",
       "      <th>TypeDesignator</th>\n",
       "      <th>Helicopter</th>\n",
       "      <th>Airplane</th>\n",
       "      <th>Engines</th>\n",
       "      <th>EngineType</th>\n",
       "      <th>Official</th>\n",
       "      <th>OccCats</th>\n",
       "      <th>Risk</th>\n",
       "      <th>Year</th>\n",
       "    </tr>\n",
       "  </thead>\n",
       "  <tbody>\n",
       "    <tr>\n",
       "      <th>0</th>\n",
       "      <td>\"2008-01-02T00:00:00.000Z\"</td>\n",
       "      <td>PHL</td>\n",
       "      <td>Masbate Airport (MBT)</td>\n",
       "      <td>NAMC YS11 A</td>\n",
       "      <td>RP-C3592</td>\n",
       "      <td>Philippines Asian Spirit</td>\n",
       "      <td>PHL</td>\n",
       "      <td>PHL</td>\n",
       "      <td>Landing</td>\n",
       "      <td>Accident</td>\n",
       "      <td>0.0</td>\n",
       "      <td>True</td>\n",
       "      <td>True</td>\n",
       "      <td>True</td>\n",
       "      <td>None</td>\n",
       "      <td>YS11</td>\n",
       "      <td>NaN</td>\n",
       "      <td>True</td>\n",
       "      <td>2</td>\n",
       "      <td>Turboprop</td>\n",
       "      <td>True</td>\n",
       "      <td>[\"RE\"]</td>\n",
       "      <td>RS</td>\n",
       "      <td>2008</td>\n",
       "    </tr>\n",
       "    <tr>\n",
       "      <th>1</th>\n",
       "      <td>\"2008-01-02T00:00:00.000Z\"</td>\n",
       "      <td>IRN</td>\n",
       "      <td>Tehran-Mehrabad Airport (THR)</td>\n",
       "      <td>FOKKER F27 100</td>\n",
       "      <td>EP-IDB</td>\n",
       "      <td>Iran, Islamic Republic Of Iran National Airlin...</td>\n",
       "      <td>IRN</td>\n",
       "      <td>IRN</td>\n",
       "      <td>Take-off</td>\n",
       "      <td>Accident</td>\n",
       "      <td>0.0</td>\n",
       "      <td>True</td>\n",
       "      <td>True</td>\n",
       "      <td>True</td>\n",
       "      <td>None</td>\n",
       "      <td>F27</td>\n",
       "      <td>NaN</td>\n",
       "      <td>True</td>\n",
       "      <td>2</td>\n",
       "      <td>Turboprop</td>\n",
       "      <td>True</td>\n",
       "      <td>[\"F-POST\",\"ICE\"]</td>\n",
       "      <td>OTH</td>\n",
       "      <td>2008</td>\n",
       "    </tr>\n",
       "    <tr>\n",
       "      <th>2</th>\n",
       "      <td>\"2008-01-03T00:00:00.000Z\"</td>\n",
       "      <td>USA</td>\n",
       "      <td>Oklahoma City</td>\n",
       "      <td>PILATUS PC12</td>\n",
       "      <td>N398J</td>\n",
       "      <td>NaN</td>\n",
       "      <td>NaN</td>\n",
       "      <td>USA</td>\n",
       "      <td>Standing</td>\n",
       "      <td>Accident</td>\n",
       "      <td>1.0</td>\n",
       "      <td>True</td>\n",
       "      <td>False</td>\n",
       "      <td>NaN</td>\n",
       "      <td>Fatal</td>\n",
       "      <td>PC12</td>\n",
       "      <td>False</td>\n",
       "      <td>True</td>\n",
       "      <td>1</td>\n",
       "      <td>Turboprop</td>\n",
       "      <td>NaN</td>\n",
       "      <td>[\"RAMP\"]</td>\n",
       "      <td>RS</td>\n",
       "      <td>2008</td>\n",
       "    </tr>\n",
       "    <tr>\n",
       "      <th>3</th>\n",
       "      <td>\"2008-01-04T00:00:00.000Z\"</td>\n",
       "      <td>VEN</td>\n",
       "      <td>A 20 NM del VOR del Gran Roque</td>\n",
       "      <td>LET L410 UVP</td>\n",
       "      <td>YV2081</td>\n",
       "      <td>Venezuela</td>\n",
       "      <td>VEN</td>\n",
       "      <td>VEN</td>\n",
       "      <td>En route</td>\n",
       "      <td>Accident</td>\n",
       "      <td>14.0</td>\n",
       "      <td>True</td>\n",
       "      <td>True</td>\n",
       "      <td>True</td>\n",
       "      <td>Fatal</td>\n",
       "      <td>L410</td>\n",
       "      <td>NaN</td>\n",
       "      <td>True</td>\n",
       "      <td>2</td>\n",
       "      <td>Turboprop</td>\n",
       "      <td>True</td>\n",
       "      <td>[\"SCF-PP\"]</td>\n",
       "      <td>SCF</td>\n",
       "      <td>2008</td>\n",
       "    </tr>\n",
       "    <tr>\n",
       "      <th>4</th>\n",
       "      <td>\"2008-01-05T00:00:00.000Z\"</td>\n",
       "      <td>USA</td>\n",
       "      <td>Kodiak</td>\n",
       "      <td>PIPER PA31P 350</td>\n",
       "      <td>N509FN</td>\n",
       "      <td>NaN</td>\n",
       "      <td>NaN</td>\n",
       "      <td>USA</td>\n",
       "      <td>Take-off</td>\n",
       "      <td>Accident</td>\n",
       "      <td>6.0</td>\n",
       "      <td>True</td>\n",
       "      <td>False</td>\n",
       "      <td>NaN</td>\n",
       "      <td>Fatal</td>\n",
       "      <td>PA47</td>\n",
       "      <td>False</td>\n",
       "      <td>True</td>\n",
       "      <td>1</td>\n",
       "      <td>Jet</td>\n",
       "      <td>NaN</td>\n",
       "      <td>[\"LOC-I\",\"SCF-NP\"]</td>\n",
       "      <td>LOC-I</td>\n",
       "      <td>2008</td>\n",
       "    </tr>\n",
       "  </tbody>\n",
       "</table>\n",
       "</div>"
      ],
      "text/plain": [
       "                         Date StateOfOccurrence  \\\n",
       "0  \"2008-01-02T00:00:00.000Z\"               PHL   \n",
       "1  \"2008-01-02T00:00:00.000Z\"               IRN   \n",
       "2  \"2008-01-03T00:00:00.000Z\"               USA   \n",
       "3  \"2008-01-04T00:00:00.000Z\"               VEN   \n",
       "4  \"2008-01-05T00:00:00.000Z\"               USA   \n",
       "\n",
       "                         Location            Model Registration  \\\n",
       "0           Masbate Airport (MBT)      NAMC YS11 A     RP-C3592   \n",
       "1   Tehran-Mehrabad Airport (THR)   FOKKER F27 100       EP-IDB   \n",
       "2                   Oklahoma City     PILATUS PC12        N398J   \n",
       "3  A 20 NM del VOR del Gran Roque     LET L410 UVP       YV2081   \n",
       "4                          Kodiak  PIPER PA31P 350       N509FN   \n",
       "\n",
       "                                            Operator StateOfOperator  \\\n",
       "0                           Philippines Asian Spirit             PHL   \n",
       "1  Iran, Islamic Republic Of Iran National Airlin...             IRN   \n",
       "2                                                NaN             NaN   \n",
       "3                                         Venezuela              VEN   \n",
       "4                                                NaN             NaN   \n",
       "\n",
       "  StateOfRegistry FlightPhase     Class  Fatalities  Over2250 Over5700  \\\n",
       "0             PHL     Landing  Accident         0.0      True     True   \n",
       "1             IRN    Take-off  Accident         0.0      True     True   \n",
       "2             USA    Standing  Accident         1.0      True    False   \n",
       "3             VEN    En route  Accident        14.0      True     True   \n",
       "4             USA    Take-off  Accident         6.0      True    False   \n",
       "\n",
       "  ScheduledCommercial InjuryLevel TypeDesignator Helicopter  Airplane  \\\n",
       "0                True        None           YS11        NaN      True   \n",
       "1                True        None            F27        NaN      True   \n",
       "2                 NaN       Fatal           PC12      False      True   \n",
       "3                True       Fatal           L410        NaN      True   \n",
       "4                 NaN       Fatal           PA47      False      True   \n",
       "\n",
       "   Engines EngineType Official             OccCats   Risk  Year  \n",
       "0        2  Turboprop     True              [\"RE\"]     RS  2008  \n",
       "1        2  Turboprop     True    [\"F-POST\",\"ICE\"]    OTH  2008  \n",
       "2        1  Turboprop      NaN            [\"RAMP\"]     RS  2008  \n",
       "3        2  Turboprop     True          [\"SCF-PP\"]    SCF  2008  \n",
       "4        1        Jet      NaN  [\"LOC-I\",\"SCF-NP\"]  LOC-I  2008  "
      ]
     },
     "execution_count": 5,
     "metadata": {},
     "output_type": "execute_result"
    }
   ],
   "source": [
    "# data set preview with head\n",
    "ac.head()"
   ]
  },
  {
   "cell_type": "code",
   "execution_count": 6,
   "id": "fd57f69b",
   "metadata": {
    "ExecuteTime": {
     "end_time": "2022-09-15T14:08:54.631484Z",
     "start_time": "2022-09-15T14:08:54.616181Z"
    },
    "scrolled": true
   },
   "outputs": [
    {
     "data": {
      "text/plain": [
       "(6109, 24)"
      ]
     },
     "execution_count": 6,
     "metadata": {},
     "output_type": "execute_result"
    }
   ],
   "source": [
    "#check shape\n",
    "ac.shape"
   ]
  },
  {
   "cell_type": "code",
   "execution_count": 7,
   "id": "07f9de6c",
   "metadata": {
    "ExecuteTime": {
     "end_time": "2022-09-15T14:08:54.706368Z",
     "start_time": "2022-09-15T14:08:54.636307Z"
    }
   },
   "outputs": [
    {
     "data": {
      "text/plain": [
       "0"
      ]
     },
     "execution_count": 7,
     "metadata": {},
     "output_type": "execute_result"
    }
   ],
   "source": [
    "#check duplicates\n",
    "ac.duplicated().sum()"
   ]
  },
  {
   "cell_type": "code",
   "execution_count": 8,
   "id": "a940fb5f",
   "metadata": {
    "ExecuteTime": {
     "end_time": "2022-09-15T14:08:54.786715Z",
     "start_time": "2022-09-15T14:08:54.710004Z"
    }
   },
   "outputs": [
    {
     "name": "stdout",
     "output_type": "stream",
     "text": [
      "<class 'pandas.core.frame.DataFrame'>\n",
      "Int64Index: 6109 entries, 0 to 43\n",
      "Data columns (total 24 columns):\n",
      " #   Column               Non-Null Count  Dtype  \n",
      "---  ------               --------------  -----  \n",
      " 0   Date                 6109 non-null   object \n",
      " 1   StateOfOccurrence    5307 non-null   object \n",
      " 2   Location             5758 non-null   object \n",
      " 3   Model                5866 non-null   object \n",
      " 4   Registration         6109 non-null   object \n",
      " 5   Operator             4184 non-null   object \n",
      " 6   StateOfOperator      1391 non-null   object \n",
      " 7   StateOfRegistry      6107 non-null   object \n",
      " 8   FlightPhase          5175 non-null   object \n",
      " 9   Class                6109 non-null   object \n",
      " 10  Fatalities           4968 non-null   float64\n",
      " 11  Over2250             6109 non-null   bool   \n",
      " 12  Over5700             6085 non-null   object \n",
      " 13  ScheduledCommercial  3277 non-null   object \n",
      " 14  InjuryLevel          4154 non-null   object \n",
      " 15  TypeDesignator       6109 non-null   object \n",
      " 16  Helicopter           4881 non-null   object \n",
      " 17  Airplane             6109 non-null   bool   \n",
      " 18  Engines              6109 non-null   int64  \n",
      " 19  EngineType           6109 non-null   object \n",
      " 20  Official             1344 non-null   object \n",
      " 21  OccCats              6109 non-null   object \n",
      " 22  Risk                 5359 non-null   object \n",
      " 23  Year                 6109 non-null   int64  \n",
      "dtypes: bool(2), float64(1), int64(2), object(19)\n",
      "memory usage: 1.1+ MB\n"
     ]
    }
   ],
   "source": [
    "# check info \n",
    "ac.info()"
   ]
  },
  {
   "cell_type": "code",
   "execution_count": 9,
   "id": "e0124314",
   "metadata": {
    "ExecuteTime": {
     "end_time": "2022-09-15T14:08:54.807398Z",
     "start_time": "2022-09-15T14:08:54.792874Z"
    },
    "scrolled": true
   },
   "outputs": [
    {
     "data": {
      "text/plain": [
       "Index(['Date', 'StateOfOccurrence', 'Location', 'Model', 'Registration',\n",
       "       'Operator', 'StateOfOperator', 'StateOfRegistry', 'FlightPhase',\n",
       "       'Class', 'Fatalities', 'Over2250', 'Over5700', 'ScheduledCommercial',\n",
       "       'InjuryLevel', 'TypeDesignator', 'Helicopter', 'Airplane', 'Engines',\n",
       "       'EngineType', 'Official', 'OccCats', 'Risk', 'Year'],\n",
       "      dtype='object')"
      ]
     },
     "execution_count": 9,
     "metadata": {},
     "output_type": "execute_result"
    }
   ],
   "source": [
    "#check columns\n",
    "ac.columns"
   ]
  },
  {
   "cell_type": "code",
   "execution_count": 10,
   "id": "1d00b764",
   "metadata": {
    "ExecuteTime": {
     "end_time": "2022-09-15T14:08:54.843776Z",
     "start_time": "2022-09-15T14:08:54.816614Z"
    },
    "scrolled": true
   },
   "outputs": [
    {
     "data": {
      "text/plain": [
       "(1507, 24)"
      ]
     },
     "execution_count": 10,
     "metadata": {},
     "output_type": "execute_result"
    }
   ],
   "source": [
    "#Filter applied to select only scheduled comercial flights, with jets and turbo prop airplanes\n",
    "ac = ac[(ac['ScheduledCommercial']==True) & (ac['Airplane'] == True) & (ac['EngineType']!= 'Piston')]\n",
    "ac.shape"
   ]
  },
  {
   "cell_type": "code",
   "execution_count": 11,
   "id": "5b88f009",
   "metadata": {
    "ExecuteTime": {
     "end_time": "2022-09-15T14:08:54.868319Z",
     "start_time": "2022-09-15T14:08:54.846857Z"
    },
    "scrolled": true
   },
   "outputs": [
    {
     "data": {
      "text/html": [
       "<div>\n",
       "<style scoped>\n",
       "    .dataframe tbody tr th:only-of-type {\n",
       "        vertical-align: middle;\n",
       "    }\n",
       "\n",
       "    .dataframe tbody tr th {\n",
       "        vertical-align: top;\n",
       "    }\n",
       "\n",
       "    .dataframe thead th {\n",
       "        text-align: right;\n",
       "    }\n",
       "</style>\n",
       "<table border=\"1\" class=\"dataframe\">\n",
       "  <thead>\n",
       "    <tr style=\"text-align: right;\">\n",
       "      <th></th>\n",
       "      <th>FlightPhase</th>\n",
       "      <th>Fatalities</th>\n",
       "      <th>InjuryLevel</th>\n",
       "      <th>Risk</th>\n",
       "      <th>Year</th>\n",
       "    </tr>\n",
       "  </thead>\n",
       "  <tbody>\n",
       "    <tr>\n",
       "      <th>0</th>\n",
       "      <td>Landing</td>\n",
       "      <td>0.0</td>\n",
       "      <td>None</td>\n",
       "      <td>RS</td>\n",
       "      <td>2008</td>\n",
       "    </tr>\n",
       "    <tr>\n",
       "      <th>1</th>\n",
       "      <td>Take-off</td>\n",
       "      <td>0.0</td>\n",
       "      <td>None</td>\n",
       "      <td>OTH</td>\n",
       "      <td>2008</td>\n",
       "    </tr>\n",
       "    <tr>\n",
       "      <th>3</th>\n",
       "      <td>En route</td>\n",
       "      <td>14.0</td>\n",
       "      <td>Fatal</td>\n",
       "      <td>SCF</td>\n",
       "      <td>2008</td>\n",
       "    </tr>\n",
       "    <tr>\n",
       "      <th>7</th>\n",
       "      <td>Approach</td>\n",
       "      <td>0.0</td>\n",
       "      <td>None</td>\n",
       "      <td>SCF</td>\n",
       "      <td>2008</td>\n",
       "    </tr>\n",
       "    <tr>\n",
       "      <th>8</th>\n",
       "      <td>Standing</td>\n",
       "      <td>0.0</td>\n",
       "      <td>None</td>\n",
       "      <td>RS</td>\n",
       "      <td>2008</td>\n",
       "    </tr>\n",
       "    <tr>\n",
       "      <th>...</th>\n",
       "      <td>...</td>\n",
       "      <td>...</td>\n",
       "      <td>...</td>\n",
       "      <td>...</td>\n",
       "      <td>...</td>\n",
       "    </tr>\n",
       "    <tr>\n",
       "      <th>28</th>\n",
       "      <td>En route</td>\n",
       "      <td>132.0</td>\n",
       "      <td>Fatal</td>\n",
       "      <td>LOC-I</td>\n",
       "      <td>2022</td>\n",
       "    </tr>\n",
       "    <tr>\n",
       "      <th>33</th>\n",
       "      <td>Landing</td>\n",
       "      <td>0.0</td>\n",
       "      <td>NaN</td>\n",
       "      <td>RS</td>\n",
       "      <td>2022</td>\n",
       "    </tr>\n",
       "    <tr>\n",
       "      <th>35</th>\n",
       "      <td>Take-off</td>\n",
       "      <td>0.0</td>\n",
       "      <td>NaN</td>\n",
       "      <td>RS</td>\n",
       "      <td>2022</td>\n",
       "    </tr>\n",
       "    <tr>\n",
       "      <th>39</th>\n",
       "      <td>Landing</td>\n",
       "      <td>0.0</td>\n",
       "      <td>NaN</td>\n",
       "      <td>RS</td>\n",
       "      <td>2022</td>\n",
       "    </tr>\n",
       "    <tr>\n",
       "      <th>43</th>\n",
       "      <td>Take-off</td>\n",
       "      <td>0.0</td>\n",
       "      <td>NaN</td>\n",
       "      <td>RS</td>\n",
       "      <td>2022</td>\n",
       "    </tr>\n",
       "  </tbody>\n",
       "</table>\n",
       "<p>1507 rows × 5 columns</p>\n",
       "</div>"
      ],
      "text/plain": [
       "   FlightPhase  Fatalities InjuryLevel   Risk  Year\n",
       "0      Landing         0.0        None     RS  2008\n",
       "1     Take-off         0.0        None    OTH  2008\n",
       "3     En route        14.0       Fatal    SCF  2008\n",
       "7     Approach         0.0        None    SCF  2008\n",
       "8     Standing         0.0        None     RS  2008\n",
       "..         ...         ...         ...    ...   ...\n",
       "28    En route       132.0       Fatal  LOC-I  2022\n",
       "33     Landing         0.0         NaN     RS  2022\n",
       "35    Take-off         0.0         NaN     RS  2022\n",
       "39     Landing         0.0         NaN     RS  2022\n",
       "43    Take-off         0.0         NaN     RS  2022\n",
       "\n",
       "[1507 rows x 5 columns]"
      ]
     },
     "execution_count": 11,
     "metadata": {},
     "output_type": "execute_result"
    }
   ],
   "source": [
    "#drop initially useless columns \n",
    "ac = ac.drop(columns= ['Date','StateOfOccurrence','Location','Model','Registration','Operator','StateOfOperator','StateOfRegistry','Over2250','Over5700','Class','ScheduledCommercial','TypeDesignator','Helicopter','Airplane','Engines','EngineType','Official','OccCats'])\n",
    "ac"
   ]
  },
  {
   "cell_type": "code",
   "execution_count": 12,
   "id": "5020a240",
   "metadata": {
    "ExecuteTime": {
     "end_time": "2022-09-15T14:08:54.880047Z",
     "start_time": "2022-09-15T14:08:54.871568Z"
    },
    "scrolled": false
   },
   "outputs": [
    {
     "data": {
      "text/plain": [
       "2010    164\n",
       "2008    148\n",
       "2011    132\n",
       "2009    118\n",
       "2014    118\n",
       "2013    117\n",
       "2019    116\n",
       "2018    115\n",
       "2015    100\n",
       "2016     96\n",
       "2017     96\n",
       "2012     82\n",
       "2020     77\n",
       "2021     17\n",
       "2022     11\n",
       "Name: Year, dtype: int64"
      ]
     },
     "execution_count": 12,
     "metadata": {},
     "output_type": "execute_result"
    }
   ],
   "source": [
    "# check year data\n",
    "ac['Year'].value_counts()"
   ]
  },
  {
   "cell_type": "code",
   "execution_count": 13,
   "id": "b7eb6204",
   "metadata": {
    "ExecuteTime": {
     "end_time": "2022-09-15T14:08:54.898153Z",
     "start_time": "2022-09-15T14:08:54.882913Z"
    }
   },
   "outputs": [],
   "source": [
    "# Use a for loop to create the 'accidents / 1 million flights' column\n",
    "ac_avg = []\n",
    "for x in ac['Year']:\n",
    "    if x == 2008:\n",
    "        avg = round((148 * 1000000)/ 26500000,2)\n",
    "    elif x == 2009:\n",
    "        avg = round((118 * 1000000)/ 25900000,2)\n",
    "    elif x == 2010: \n",
    "        avg = round((164 *1000000)/ 27800000,2)\n",
    "    elif x == 2011: \n",
    "        avg = round((132 *1000000)/ 30100000,2)\n",
    "    elif x == 2012: \n",
    "        avg = round((82 *1000000)/ 31200000,2)\n",
    "    elif x == 2013: \n",
    "        avg = round((117 * 1000000)/ 32000000,2)\n",
    "    elif x == 2014:\n",
    "        avg = round((118 * 1000000) / 33000000,2)\n",
    "    elif x == 2015:\n",
    "        avg = round((100 * 1000000)/ 340000000,2)\n",
    "    elif x == 2016:\n",
    "        avg = round((96 *1000000) / 35200000,2)\n",
    "    elif x == 2017:\n",
    "        avg = round((96 * 1000000) / 36400000,2)\n",
    "    elif x == 2018:\n",
    "        avg = round((115 * 1000000)/ 38100000,2)\n",
    "    elif x == 2019:\n",
    "        avg = round((116 * 1000000)/ 38900000,2)\n",
    "    elif x == 2020:\n",
    "        avg = round((77 * 1000000)/ 16900000,2)\n",
    "    elif x == 2021:\n",
    "        avg = round((17 * 1000000)/ 19300000,2)\n",
    "    else:\n",
    "        avg = round((11 * 1000000)/10750000,2)\n",
    "    ac_avg.append(avg)\n",
    "    \n",
    "    ac_avg"
   ]
  },
  {
   "cell_type": "code",
   "execution_count": 14,
   "id": "078230ac",
   "metadata": {
    "ExecuteTime": {
     "end_time": "2022-09-15T14:08:54.911235Z",
     "start_time": "2022-09-15T14:08:54.902317Z"
    }
   },
   "outputs": [],
   "source": [
    "#Create respective column\n",
    "ac['acc/1MillionFlights'] = ac_avg"
   ]
  },
  {
   "cell_type": "code",
   "execution_count": 15,
   "id": "7873003e",
   "metadata": {
    "ExecuteTime": {
     "end_time": "2022-09-15T14:08:54.924847Z",
     "start_time": "2022-09-15T14:08:54.914880Z"
    },
    "scrolled": true
   },
   "outputs": [
    {
     "data": {
      "text/plain": [
       "None       469\n",
       "Serious    198\n",
       "Fatal      168\n",
       "Minor       62\n",
       "Unknown     59\n",
       "Name: InjuryLevel, dtype: int64"
      ]
     },
     "execution_count": 15,
     "metadata": {},
     "output_type": "execute_result"
    }
   ],
   "source": [
    "#check injury level values\n",
    "ac['InjuryLevel'].value_counts()"
   ]
  },
  {
   "cell_type": "code",
   "execution_count": 16,
   "id": "4f6b88a0",
   "metadata": {
    "ExecuteTime": {
     "end_time": "2022-09-15T14:08:54.934242Z",
     "start_time": "2022-09-15T14:08:54.927601Z"
    }
   },
   "outputs": [
    {
     "data": {
      "text/plain": [
       "551"
      ]
     },
     "execution_count": 16,
     "metadata": {},
     "output_type": "execute_result"
    }
   ],
   "source": [
    "#checl nulls on injury level column\n",
    "ac['InjuryLevel'].isnull().sum()"
   ]
  },
  {
   "cell_type": "code",
   "execution_count": 17,
   "id": "56048cb6",
   "metadata": {
    "ExecuteTime": {
     "end_time": "2022-09-15T14:08:54.943409Z",
     "start_time": "2022-09-15T14:08:54.936843Z"
    }
   },
   "outputs": [],
   "source": [
    "#lead with nulls\n",
    "ac['InjuryLevel'].fillna('unknown',inplace=True)"
   ]
  },
  {
   "cell_type": "code",
   "execution_count": 18,
   "id": "0fe84880",
   "metadata": {
    "ExecuteTime": {
     "end_time": "2022-09-15T14:08:54.952520Z",
     "start_time": "2022-09-15T14:08:54.946624Z"
    }
   },
   "outputs": [],
   "source": [
    "#create a list to classify  injury level column in only two categories\n",
    "il_update = []\n",
    "for x in ac['InjuryLevel']:\n",
    "    if x in ['Serious','Fatal']:\n",
    "        x = 'Serious/Fatal'\n",
    "    else:\n",
    "        x = 'Minor/None'\n",
    "    il_update.append(x)"
   ]
  },
  {
   "cell_type": "code",
   "execution_count": 19,
   "id": "50ab45c7",
   "metadata": {
    "ExecuteTime": {
     "end_time": "2022-09-15T14:08:54.961940Z",
     "start_time": "2022-09-15T14:08:54.956112Z"
    }
   },
   "outputs": [],
   "source": [
    "# update injury level column  for only two categories\n",
    "ac['InjuryLevel'] = il_update"
   ]
  },
  {
   "cell_type": "code",
   "execution_count": 20,
   "id": "e3197c82",
   "metadata": {
    "ExecuteTime": {
     "end_time": "2022-09-15T14:08:54.973353Z",
     "start_time": "2022-09-15T14:08:54.965589Z"
    }
   },
   "outputs": [],
   "source": [
    "#apply lambda do transform in numerics (binary)\n",
    "ac['InjuryLevel']=ac['InjuryLevel'].apply(lambda x: 1 if x== 'Serious/Fatal' else 0)"
   ]
  },
  {
   "cell_type": "code",
   "execution_count": 21,
   "id": "c93cb467",
   "metadata": {
    "ExecuteTime": {
     "end_time": "2022-09-15T14:08:54.983415Z",
     "start_time": "2022-09-15T14:08:54.978154Z"
    },
    "scrolled": true
   },
   "outputs": [],
   "source": [
    "#rename it to serius fatal column\n",
    "ac['Serious/Fatal'] = ac['InjuryLevel']"
   ]
  },
  {
   "cell_type": "code",
   "execution_count": 22,
   "id": "d38727f2",
   "metadata": {
    "ExecuteTime": {
     "end_time": "2022-09-15T14:08:54.998803Z",
     "start_time": "2022-09-15T14:08:54.990404Z"
    }
   },
   "outputs": [],
   "source": [
    "#drop the now useless injury level column\n",
    "ac.drop(columns= ['InjuryLevel'], inplace=True)"
   ]
  },
  {
   "cell_type": "code",
   "execution_count": 23,
   "id": "f7f19579",
   "metadata": {
    "ExecuteTime": {
     "end_time": "2022-09-15T14:08:55.033106Z",
     "start_time": "2022-09-15T14:08:55.004276Z"
    },
    "scrolled": true
   },
   "outputs": [
    {
     "data": {
      "text/html": [
       "<div>\n",
       "<style scoped>\n",
       "    .dataframe tbody tr th:only-of-type {\n",
       "        vertical-align: middle;\n",
       "    }\n",
       "\n",
       "    .dataframe tbody tr th {\n",
       "        vertical-align: top;\n",
       "    }\n",
       "\n",
       "    .dataframe thead th {\n",
       "        text-align: right;\n",
       "    }\n",
       "</style>\n",
       "<table border=\"1\" class=\"dataframe\">\n",
       "  <thead>\n",
       "    <tr style=\"text-align: right;\">\n",
       "      <th></th>\n",
       "      <th>FlightPhase</th>\n",
       "      <th>Fatalities</th>\n",
       "      <th>Risk</th>\n",
       "      <th>Year</th>\n",
       "      <th>acc/1MillionFlights</th>\n",
       "      <th>Serious/Fatal</th>\n",
       "    </tr>\n",
       "  </thead>\n",
       "  <tbody>\n",
       "    <tr>\n",
       "      <th>0</th>\n",
       "      <td>Landing</td>\n",
       "      <td>0.0</td>\n",
       "      <td>RS</td>\n",
       "      <td>2008</td>\n",
       "      <td>5.58</td>\n",
       "      <td>0</td>\n",
       "    </tr>\n",
       "    <tr>\n",
       "      <th>1</th>\n",
       "      <td>Take-off</td>\n",
       "      <td>0.0</td>\n",
       "      <td>OTH</td>\n",
       "      <td>2008</td>\n",
       "      <td>5.58</td>\n",
       "      <td>0</td>\n",
       "    </tr>\n",
       "    <tr>\n",
       "      <th>3</th>\n",
       "      <td>En route</td>\n",
       "      <td>14.0</td>\n",
       "      <td>SCF</td>\n",
       "      <td>2008</td>\n",
       "      <td>5.58</td>\n",
       "      <td>1</td>\n",
       "    </tr>\n",
       "    <tr>\n",
       "      <th>7</th>\n",
       "      <td>Approach</td>\n",
       "      <td>0.0</td>\n",
       "      <td>SCF</td>\n",
       "      <td>2008</td>\n",
       "      <td>5.58</td>\n",
       "      <td>0</td>\n",
       "    </tr>\n",
       "    <tr>\n",
       "      <th>8</th>\n",
       "      <td>Standing</td>\n",
       "      <td>0.0</td>\n",
       "      <td>RS</td>\n",
       "      <td>2008</td>\n",
       "      <td>5.58</td>\n",
       "      <td>0</td>\n",
       "    </tr>\n",
       "    <tr>\n",
       "      <th>...</th>\n",
       "      <td>...</td>\n",
       "      <td>...</td>\n",
       "      <td>...</td>\n",
       "      <td>...</td>\n",
       "      <td>...</td>\n",
       "      <td>...</td>\n",
       "    </tr>\n",
       "    <tr>\n",
       "      <th>28</th>\n",
       "      <td>En route</td>\n",
       "      <td>132.0</td>\n",
       "      <td>LOC-I</td>\n",
       "      <td>2022</td>\n",
       "      <td>1.02</td>\n",
       "      <td>1</td>\n",
       "    </tr>\n",
       "    <tr>\n",
       "      <th>33</th>\n",
       "      <td>Landing</td>\n",
       "      <td>0.0</td>\n",
       "      <td>RS</td>\n",
       "      <td>2022</td>\n",
       "      <td>1.02</td>\n",
       "      <td>0</td>\n",
       "    </tr>\n",
       "    <tr>\n",
       "      <th>35</th>\n",
       "      <td>Take-off</td>\n",
       "      <td>0.0</td>\n",
       "      <td>RS</td>\n",
       "      <td>2022</td>\n",
       "      <td>1.02</td>\n",
       "      <td>0</td>\n",
       "    </tr>\n",
       "    <tr>\n",
       "      <th>39</th>\n",
       "      <td>Landing</td>\n",
       "      <td>0.0</td>\n",
       "      <td>RS</td>\n",
       "      <td>2022</td>\n",
       "      <td>1.02</td>\n",
       "      <td>0</td>\n",
       "    </tr>\n",
       "    <tr>\n",
       "      <th>43</th>\n",
       "      <td>Take-off</td>\n",
       "      <td>0.0</td>\n",
       "      <td>RS</td>\n",
       "      <td>2022</td>\n",
       "      <td>1.02</td>\n",
       "      <td>0</td>\n",
       "    </tr>\n",
       "  </tbody>\n",
       "</table>\n",
       "<p>1507 rows × 6 columns</p>\n",
       "</div>"
      ],
      "text/plain": [
       "   FlightPhase  Fatalities   Risk  Year  acc/1MillionFlights  Serious/Fatal\n",
       "0      Landing         0.0     RS  2008                 5.58              0\n",
       "1     Take-off         0.0    OTH  2008                 5.58              0\n",
       "3     En route        14.0    SCF  2008                 5.58              1\n",
       "7     Approach         0.0    SCF  2008                 5.58              0\n",
       "8     Standing         0.0     RS  2008                 5.58              0\n",
       "..         ...         ...    ...   ...                  ...            ...\n",
       "28    En route       132.0  LOC-I  2022                 1.02              1\n",
       "33     Landing         0.0     RS  2022                 1.02              0\n",
       "35    Take-off         0.0     RS  2022                 1.02              0\n",
       "39     Landing         0.0     RS  2022                 1.02              0\n",
       "43    Take-off         0.0     RS  2022                 1.02              0\n",
       "\n",
       "[1507 rows x 6 columns]"
      ]
     },
     "execution_count": 23,
     "metadata": {},
     "output_type": "execute_result"
    }
   ],
   "source": [
    "#check updated data set\n",
    "ac"
   ]
  },
  {
   "cell_type": "markdown",
   "id": "fa883832",
   "metadata": {},
   "source": [
    "# Column 'Fatalities' is leaking data, let's drop it!"
   ]
  },
  {
   "cell_type": "code",
   "execution_count": 24,
   "id": "3057496f",
   "metadata": {
    "ExecuteTime": {
     "end_time": "2022-09-15T14:08:55.046274Z",
     "start_time": "2022-09-15T14:08:55.037881Z"
    }
   },
   "outputs": [],
   "source": [
    "# drop it!\n",
    "ac.drop(columns=['Fatalities'],inplace=True)"
   ]
  },
  {
   "cell_type": "code",
   "execution_count": 25,
   "id": "c234bd33",
   "metadata": {
    "ExecuteTime": {
     "end_time": "2022-09-15T14:08:55.056557Z",
     "start_time": "2022-09-15T14:08:55.050421Z"
    }
   },
   "outputs": [],
   "source": [
    "#deal with nulls on flight phase column\n",
    "ac['FlightPhase'].fillna('Unknown',inplace=True)"
   ]
  },
  {
   "cell_type": "code",
   "execution_count": 26,
   "id": "f633dd6f",
   "metadata": {
    "ExecuteTime": {
     "end_time": "2022-09-15T14:08:55.068817Z",
     "start_time": "2022-09-15T14:08:55.061073Z"
    }
   },
   "outputs": [
    {
     "data": {
      "text/plain": [
       "0"
      ]
     },
     "execution_count": 26,
     "metadata": {},
     "output_type": "execute_result"
    }
   ],
   "source": [
    "#check it\n",
    "ac['FlightPhase'].isnull().sum()"
   ]
  },
  {
   "cell_type": "code",
   "execution_count": 27,
   "id": "feb7bfe4",
   "metadata": {
    "ExecuteTime": {
     "end_time": "2022-09-15T14:08:55.085868Z",
     "start_time": "2022-09-15T14:08:55.074275Z"
    },
    "scrolled": true
   },
   "outputs": [
    {
     "data": {
      "text/plain": [
       "Landing          461\n",
       "Unknown          285\n",
       "En route         199\n",
       "Taxi             156\n",
       "Take-off         155\n",
       "Approach         122\n",
       "Standing         105\n",
       "Initial Climb     17\n",
       "Manoeuvring        7\n",
       "Name: FlightPhase, dtype: int64"
      ]
     },
     "execution_count": 27,
     "metadata": {},
     "output_type": "execute_result"
    }
   ],
   "source": [
    "#check values on it\n",
    "ac['FlightPhase'].value_counts().head(10)"
   ]
  },
  {
   "cell_type": "code",
   "execution_count": 28,
   "id": "16b60a6d",
   "metadata": {
    "ExecuteTime": {
     "end_time": "2022-09-15T14:08:55.138095Z",
     "start_time": "2022-09-15T14:08:55.122396Z"
    },
    "scrolled": true
   },
   "outputs": [
    {
     "data": {
      "text/html": [
       "<style>#sk-container-id-1 {color: black;background-color: white;}#sk-container-id-1 pre{padding: 0;}#sk-container-id-1 div.sk-toggleable {background-color: white;}#sk-container-id-1 label.sk-toggleable__label {cursor: pointer;display: block;width: 100%;margin-bottom: 0;padding: 0.3em;box-sizing: border-box;text-align: center;}#sk-container-id-1 label.sk-toggleable__label-arrow:before {content: \"▸\";float: left;margin-right: 0.25em;color: #696969;}#sk-container-id-1 label.sk-toggleable__label-arrow:hover:before {color: black;}#sk-container-id-1 div.sk-estimator:hover label.sk-toggleable__label-arrow:before {color: black;}#sk-container-id-1 div.sk-toggleable__content {max-height: 0;max-width: 0;overflow: hidden;text-align: left;background-color: #f0f8ff;}#sk-container-id-1 div.sk-toggleable__content pre {margin: 0.2em;color: black;border-radius: 0.25em;background-color: #f0f8ff;}#sk-container-id-1 input.sk-toggleable__control:checked~div.sk-toggleable__content {max-height: 200px;max-width: 100%;overflow: auto;}#sk-container-id-1 input.sk-toggleable__control:checked~label.sk-toggleable__label-arrow:before {content: \"▾\";}#sk-container-id-1 div.sk-estimator input.sk-toggleable__control:checked~label.sk-toggleable__label {background-color: #d4ebff;}#sk-container-id-1 div.sk-label input.sk-toggleable__control:checked~label.sk-toggleable__label {background-color: #d4ebff;}#sk-container-id-1 input.sk-hidden--visually {border: 0;clip: rect(1px 1px 1px 1px);clip: rect(1px, 1px, 1px, 1px);height: 1px;margin: -1px;overflow: hidden;padding: 0;position: absolute;width: 1px;}#sk-container-id-1 div.sk-estimator {font-family: monospace;background-color: #f0f8ff;border: 1px dotted black;border-radius: 0.25em;box-sizing: border-box;margin-bottom: 0.5em;}#sk-container-id-1 div.sk-estimator:hover {background-color: #d4ebff;}#sk-container-id-1 div.sk-parallel-item::after {content: \"\";width: 100%;border-bottom: 1px solid gray;flex-grow: 1;}#sk-container-id-1 div.sk-label:hover label.sk-toggleable__label {background-color: #d4ebff;}#sk-container-id-1 div.sk-serial::before {content: \"\";position: absolute;border-left: 1px solid gray;box-sizing: border-box;top: 0;bottom: 0;left: 50%;z-index: 0;}#sk-container-id-1 div.sk-serial {display: flex;flex-direction: column;align-items: center;background-color: white;padding-right: 0.2em;padding-left: 0.2em;position: relative;}#sk-container-id-1 div.sk-item {position: relative;z-index: 1;}#sk-container-id-1 div.sk-parallel {display: flex;align-items: stretch;justify-content: center;background-color: white;position: relative;}#sk-container-id-1 div.sk-item::before, #sk-container-id-1 div.sk-parallel-item::before {content: \"\";position: absolute;border-left: 1px solid gray;box-sizing: border-box;top: 0;bottom: 0;left: 50%;z-index: -1;}#sk-container-id-1 div.sk-parallel-item {display: flex;flex-direction: column;z-index: 1;position: relative;background-color: white;}#sk-container-id-1 div.sk-parallel-item:first-child::after {align-self: flex-end;width: 50%;}#sk-container-id-1 div.sk-parallel-item:last-child::after {align-self: flex-start;width: 50%;}#sk-container-id-1 div.sk-parallel-item:only-child::after {width: 0;}#sk-container-id-1 div.sk-dashed-wrapped {border: 1px dashed gray;margin: 0 0.4em 0.5em 0.4em;box-sizing: border-box;padding-bottom: 0.4em;background-color: white;}#sk-container-id-1 div.sk-label label {font-family: monospace;font-weight: bold;display: inline-block;line-height: 1.2em;}#sk-container-id-1 div.sk-label-container {text-align: center;}#sk-container-id-1 div.sk-container {/* jupyter's `normalize.less` sets `[hidden] { display: none; }` but bootstrap.min.css set `[hidden] { display: none !important; }` so we also need the `!important` here to be able to override the default hidden behavior on the sphinx rendered scikit-learn.org. See: https://github.com/scikit-learn/scikit-learn/issues/21755 */display: inline-block !important;position: relative;}#sk-container-id-1 div.sk-text-repr-fallback {display: none;}</style><div id=\"sk-container-id-1\" class=\"sk-top-container\"><div class=\"sk-text-repr-fallback\"><pre>LabelEncoder()</pre><b>In a Jupyter environment, please rerun this cell to show the HTML representation or trust the notebook. <br />On GitHub, the HTML representation is unable to render, please try loading this page with nbviewer.org.</b></div><div class=\"sk-container\" hidden><div class=\"sk-item\"><div class=\"sk-estimator sk-toggleable\"><input class=\"sk-toggleable__control sk-hidden--visually\" id=\"sk-estimator-id-1\" type=\"checkbox\" checked><label for=\"sk-estimator-id-1\" class=\"sk-toggleable__label sk-toggleable__label-arrow\">LabelEncoder</label><div class=\"sk-toggleable__content\"><pre>LabelEncoder()</pre></div></div></div></div></div>"
      ],
      "text/plain": [
       "LabelEncoder()"
      ]
     },
     "execution_count": 28,
     "metadata": {},
     "output_type": "execute_result"
    }
   ],
   "source": [
    "#apply label encoder to convert flight phase column to numerics\n",
    "labencoder = LabelEncoder()\n",
    "labencoder.fit(ac['FlightPhase'])"
   ]
  },
  {
   "cell_type": "code",
   "execution_count": 29,
   "id": "42d21279",
   "metadata": {
    "ExecuteTime": {
     "end_time": "2022-09-15T14:08:55.149325Z",
     "start_time": "2022-09-15T14:08:55.142554Z"
    }
   },
   "outputs": [],
   "source": [
    "# inplace it \n",
    "ac['FlightPhase'] = labencoder.fit_transform(ac['FlightPhase'])"
   ]
  },
  {
   "cell_type": "code",
   "execution_count": 30,
   "id": "b23d40b2",
   "metadata": {
    "ExecuteTime": {
     "end_time": "2022-09-15T14:08:55.159492Z",
     "start_time": "2022-09-15T14:08:55.152385Z"
    },
    "scrolled": true
   },
   "outputs": [
    {
     "data": {
      "text/plain": [
       "array(['Approach', 'En route', 'Initial Climb', 'Landing', 'Manoeuvring',\n",
       "       'Standing', 'Take-off', 'Taxi', 'Unknown'], dtype=object)"
      ]
     },
     "execution_count": 30,
     "metadata": {},
     "output_type": "execute_result"
    }
   ],
   "source": [
    "#check classes\n",
    "labencoder.classes_"
   ]
  },
  {
   "cell_type": "code",
   "execution_count": 31,
   "id": "197f6dfc",
   "metadata": {
    "ExecuteTime": {
     "end_time": "2022-09-15T14:08:55.173501Z",
     "start_time": "2022-09-15T14:08:55.163477Z"
    },
    "scrolled": true
   },
   "outputs": [
    {
     "data": {
      "text/html": [
       "<style>#sk-container-id-2 {color: black;background-color: white;}#sk-container-id-2 pre{padding: 0;}#sk-container-id-2 div.sk-toggleable {background-color: white;}#sk-container-id-2 label.sk-toggleable__label {cursor: pointer;display: block;width: 100%;margin-bottom: 0;padding: 0.3em;box-sizing: border-box;text-align: center;}#sk-container-id-2 label.sk-toggleable__label-arrow:before {content: \"▸\";float: left;margin-right: 0.25em;color: #696969;}#sk-container-id-2 label.sk-toggleable__label-arrow:hover:before {color: black;}#sk-container-id-2 div.sk-estimator:hover label.sk-toggleable__label-arrow:before {color: black;}#sk-container-id-2 div.sk-toggleable__content {max-height: 0;max-width: 0;overflow: hidden;text-align: left;background-color: #f0f8ff;}#sk-container-id-2 div.sk-toggleable__content pre {margin: 0.2em;color: black;border-radius: 0.25em;background-color: #f0f8ff;}#sk-container-id-2 input.sk-toggleable__control:checked~div.sk-toggleable__content {max-height: 200px;max-width: 100%;overflow: auto;}#sk-container-id-2 input.sk-toggleable__control:checked~label.sk-toggleable__label-arrow:before {content: \"▾\";}#sk-container-id-2 div.sk-estimator input.sk-toggleable__control:checked~label.sk-toggleable__label {background-color: #d4ebff;}#sk-container-id-2 div.sk-label input.sk-toggleable__control:checked~label.sk-toggleable__label {background-color: #d4ebff;}#sk-container-id-2 input.sk-hidden--visually {border: 0;clip: rect(1px 1px 1px 1px);clip: rect(1px, 1px, 1px, 1px);height: 1px;margin: -1px;overflow: hidden;padding: 0;position: absolute;width: 1px;}#sk-container-id-2 div.sk-estimator {font-family: monospace;background-color: #f0f8ff;border: 1px dotted black;border-radius: 0.25em;box-sizing: border-box;margin-bottom: 0.5em;}#sk-container-id-2 div.sk-estimator:hover {background-color: #d4ebff;}#sk-container-id-2 div.sk-parallel-item::after {content: \"\";width: 100%;border-bottom: 1px solid gray;flex-grow: 1;}#sk-container-id-2 div.sk-label:hover label.sk-toggleable__label {background-color: #d4ebff;}#sk-container-id-2 div.sk-serial::before {content: \"\";position: absolute;border-left: 1px solid gray;box-sizing: border-box;top: 0;bottom: 0;left: 50%;z-index: 0;}#sk-container-id-2 div.sk-serial {display: flex;flex-direction: column;align-items: center;background-color: white;padding-right: 0.2em;padding-left: 0.2em;position: relative;}#sk-container-id-2 div.sk-item {position: relative;z-index: 1;}#sk-container-id-2 div.sk-parallel {display: flex;align-items: stretch;justify-content: center;background-color: white;position: relative;}#sk-container-id-2 div.sk-item::before, #sk-container-id-2 div.sk-parallel-item::before {content: \"\";position: absolute;border-left: 1px solid gray;box-sizing: border-box;top: 0;bottom: 0;left: 50%;z-index: -1;}#sk-container-id-2 div.sk-parallel-item {display: flex;flex-direction: column;z-index: 1;position: relative;background-color: white;}#sk-container-id-2 div.sk-parallel-item:first-child::after {align-self: flex-end;width: 50%;}#sk-container-id-2 div.sk-parallel-item:last-child::after {align-self: flex-start;width: 50%;}#sk-container-id-2 div.sk-parallel-item:only-child::after {width: 0;}#sk-container-id-2 div.sk-dashed-wrapped {border: 1px dashed gray;margin: 0 0.4em 0.5em 0.4em;box-sizing: border-box;padding-bottom: 0.4em;background-color: white;}#sk-container-id-2 div.sk-label label {font-family: monospace;font-weight: bold;display: inline-block;line-height: 1.2em;}#sk-container-id-2 div.sk-label-container {text-align: center;}#sk-container-id-2 div.sk-container {/* jupyter's `normalize.less` sets `[hidden] { display: none; }` but bootstrap.min.css set `[hidden] { display: none !important; }` so we also need the `!important` here to be able to override the default hidden behavior on the sphinx rendered scikit-learn.org. See: https://github.com/scikit-learn/scikit-learn/issues/21755 */display: inline-block !important;position: relative;}#sk-container-id-2 div.sk-text-repr-fallback {display: none;}</style><div id=\"sk-container-id-2\" class=\"sk-top-container\"><div class=\"sk-text-repr-fallback\"><pre>LabelEncoder()</pre><b>In a Jupyter environment, please rerun this cell to show the HTML representation or trust the notebook. <br />On GitHub, the HTML representation is unable to render, please try loading this page with nbviewer.org.</b></div><div class=\"sk-container\" hidden><div class=\"sk-item\"><div class=\"sk-estimator sk-toggleable\"><input class=\"sk-toggleable__control sk-hidden--visually\" id=\"sk-estimator-id-2\" type=\"checkbox\" checked><label for=\"sk-estimator-id-2\" class=\"sk-toggleable__label sk-toggleable__label-arrow\">LabelEncoder</label><div class=\"sk-toggleable__content\"><pre>LabelEncoder()</pre></div></div></div></div></div>"
      ],
      "text/plain": [
       "LabelEncoder()"
      ]
     },
     "execution_count": 31,
     "metadata": {},
     "output_type": "execute_result"
    }
   ],
   "source": [
    "#apply label encoder to convert to risk column to numerics\n",
    "labencoder = LabelEncoder()\n",
    "labencoder.fit(ac['Risk'])"
   ]
  },
  {
   "cell_type": "code",
   "execution_count": 32,
   "id": "cbd49ef8",
   "metadata": {
    "ExecuteTime": {
     "end_time": "2022-09-15T14:08:55.185818Z",
     "start_time": "2022-09-15T14:08:55.179883Z"
    },
    "scrolled": true
   },
   "outputs": [],
   "source": [
    "#inplace it \n",
    "ac['Risk'] = labencoder.fit_transform(ac['Risk'])"
   ]
  },
  {
   "cell_type": "code",
   "execution_count": 33,
   "id": "cf366f1b",
   "metadata": {
    "ExecuteTime": {
     "end_time": "2022-09-15T14:08:55.194503Z",
     "start_time": "2022-09-15T14:08:55.189848Z"
    }
   },
   "outputs": [],
   "source": [
    "#ordenate columns as convenient\n",
    "col = ['Year','FlightPhase','Risk','Serious/Fatal','acc/1MillionFlights']"
   ]
  },
  {
   "cell_type": "code",
   "execution_count": 34,
   "id": "af8365aa",
   "metadata": {
    "ExecuteTime": {
     "end_time": "2022-09-15T14:08:55.208094Z",
     "start_time": "2022-09-15T14:08:55.198858Z"
    },
    "scrolled": true
   },
   "outputs": [],
   "source": [
    "#inplace it\n",
    "ac = ac.loc[:,col]\n"
   ]
  },
  {
   "cell_type": "code",
   "execution_count": 35,
   "id": "6f5c57c1",
   "metadata": {
    "ExecuteTime": {
     "end_time": "2022-09-15T14:08:55.239737Z",
     "start_time": "2022-09-15T14:08:55.214285Z"
    },
    "scrolled": true
   },
   "outputs": [
    {
     "name": "stdout",
     "output_type": "stream",
     "text": [
      "<class 'pandas.core.frame.DataFrame'>\n",
      "Int64Index: 1507 entries, 0 to 43\n",
      "Data columns (total 5 columns):\n",
      " #   Column               Non-Null Count  Dtype  \n",
      "---  ------               --------------  -----  \n",
      " 0   Year                 1507 non-null   int64  \n",
      " 1   FlightPhase          1507 non-null   int64  \n",
      " 2   Risk                 1507 non-null   int64  \n",
      " 3   Serious/Fatal        1507 non-null   int64  \n",
      " 4   acc/1MillionFlights  1507 non-null   float64\n",
      "dtypes: float64(1), int64(4)\n",
      "memory usage: 70.6 KB\n"
     ]
    }
   ],
   "source": [
    "#check updated data set\n",
    "ac.info()"
   ]
  },
  {
   "cell_type": "code",
   "execution_count": 36,
   "id": "6e1189f3",
   "metadata": {
    "ExecuteTime": {
     "end_time": "2022-09-15T14:08:55.264725Z",
     "start_time": "2022-09-15T14:08:55.247134Z"
    },
    "scrolled": true
   },
   "outputs": [
    {
     "data": {
      "text/plain": [
       "Year                   0\n",
       "FlightPhase            0\n",
       "Risk                   0\n",
       "Serious/Fatal          0\n",
       "acc/1MillionFlights    0\n",
       "dtype: int64"
      ]
     },
     "execution_count": 36,
     "metadata": {},
     "output_type": "execute_result"
    }
   ],
   "source": [
    "# check if there are still nulls\n",
    "ac.isnull().sum()"
   ]
  },
  {
   "cell_type": "markdown",
   "id": "eea40f7e",
   "metadata": {},
   "source": [
    "# MODELING"
   ]
  },
  {
   "cell_type": "code",
   "execution_count": 126,
   "id": "31c9e704",
   "metadata": {
    "ExecuteTime": {
     "end_time": "2022-09-15T14:56:58.610254Z",
     "start_time": "2022-09-15T14:56:58.600350Z"
    }
   },
   "outputs": [],
   "source": [
    "#create X and Y\n",
    "X = ac.drop(columns=['Serious/Fatal'])\n",
    "y = ac['Serious/Fatal']"
   ]
  },
  {
   "cell_type": "code",
   "execution_count": 59,
   "id": "5046160b",
   "metadata": {
    "ExecuteTime": {
     "end_time": "2022-09-15T14:12:36.230675Z",
     "start_time": "2022-09-15T14:12:36.218009Z"
    },
    "scrolled": true
   },
   "outputs": [],
   "source": [
    "#split train/test variables\n",
    "X_train, X_test, y_train, y_test = train_test_split(X,y,test_size=0.2,random_state=42) "
   ]
  },
  {
   "cell_type": "code",
   "execution_count": 127,
   "id": "ed3b6dfb",
   "metadata": {
    "ExecuteTime": {
     "end_time": "2022-09-15T15:00:41.925439Z",
     "start_time": "2022-09-15T15:00:41.912411Z"
    },
    "scrolled": false
   },
   "outputs": [
    {
     "name": "stdout",
     "output_type": "stream",
     "text": [
      "     Year  FlightPhase  Risk  acc/1MillionFlights\n",
      "106  2012            1    31                 2.63\n",
      "73   2015            7    30                 0.29\n",
      "118  2012            4    30                 2.63\n",
      "128  2015            7     6                 0.29\n",
      "191  2017            1    30                 2.64\n"
     ]
    }
   ],
   "source": [
    "#check X_train\n",
    "print(X_train.head())"
   ]
  },
  {
   "cell_type": "code",
   "execution_count": 128,
   "id": "176285fa",
   "metadata": {
    "ExecuteTime": {
     "end_time": "2022-09-15T15:01:15.673459Z",
     "start_time": "2022-09-15T15:01:15.666862Z"
    }
   },
   "outputs": [
    {
     "name": "stdout",
     "output_type": "stream",
     "text": [
      "106    0\n",
      "73     0\n",
      "118    0\n",
      "128    0\n",
      "191    0\n",
      "Name: Serious/Fatal, dtype: int64\n"
     ]
    }
   ],
   "source": [
    "#check y_train\n",
    "print(y_train.head())"
   ]
  },
  {
   "cell_type": "code",
   "execution_count": 129,
   "id": "e20d9103",
   "metadata": {
    "ExecuteTime": {
     "end_time": "2022-09-15T15:01:43.557387Z",
     "start_time": "2022-09-15T15:01:43.507662Z"
    },
    "scrolled": true
   },
   "outputs": [
    {
     "name": "stdout",
     "output_type": "stream",
     "text": [
      "Pipeline(memory=None,\n",
      "         steps=[('model',\n",
      "                 LogisticRegression(C=1.0, class_weight=None, dual=False,\n",
      "                                    fit_intercept=True, intercept_scaling=1,\n",
      "                                    l1_ratio=None, max_iter=100,\n",
      "                                    multi_class='auto', n_jobs=None,\n",
      "                                    penalty='l2', random_state=None,\n",
      "                                    solver='lbfgs', tol=0.0001, verbose=0,\n",
      "                                    warm_start=False))],\n",
      "         verbose=False)\n"
     ]
    }
   ],
   "source": [
    "#create sklearn pipeline for firstly apply logistic regression model and fit it\n",
    "pipeline1 = Pipeline(steps=[('model', LogisticRegression())])\n",
    "print(pipeline1.fit(X_train,y_train))"
   ]
  },
  {
   "cell_type": "code",
   "execution_count": 130,
   "id": "4dc9e92c",
   "metadata": {
    "ExecuteTime": {
     "end_time": "2022-09-15T15:01:46.439402Z",
     "start_time": "2022-09-15T15:01:46.431633Z"
    }
   },
   "outputs": [],
   "source": [
    "#create y prediction\n",
    "y_pred= pipeline1.predict(X_test)"
   ]
  },
  {
   "cell_type": "code",
   "execution_count": 131,
   "id": "e1a04cd8",
   "metadata": {
    "ExecuteTime": {
     "end_time": "2022-09-15T15:01:47.865211Z",
     "start_time": "2022-09-15T15:01:47.843756Z"
    },
    "scrolled": true
   },
   "outputs": [
    {
     "name": "stdout",
     "output_type": "stream",
     "text": [
      "Accuracy score using Logistic Regression is 0.8245033112582781\n"
     ]
    }
   ],
   "source": [
    "#check logistic regression accuracy score \n",
    "pipeline1.score(X_test, y_test)\n",
    "print(f'Accuracy score using Logistic Regression is {pipeline.score(X_test, y_test)}')"
   ]
  },
  {
   "cell_type": "code",
   "execution_count": 132,
   "id": "c5832bee",
   "metadata": {
    "ExecuteTime": {
     "end_time": "2022-09-15T15:01:57.435183Z",
     "start_time": "2022-09-15T15:01:57.404666Z"
    }
   },
   "outputs": [
    {
     "name": "stdout",
     "output_type": "stream",
     "text": [
      "Precision score using Logistic Regression is 0.8\n"
     ]
    }
   ],
   "source": [
    "#check logistic regression precision score\n",
    "precision1_score = precision_score(y_test,pipeline.predict(X_test))\n",
    "precision1_score\n",
    "print(f'Precision score using Logistic Regression is {precision_score(y_test,pipeline.predict(X_test))}')"
   ]
  },
  {
   "cell_type": "code",
   "execution_count": 133,
   "id": "36dec16d",
   "metadata": {
    "ExecuteTime": {
     "end_time": "2022-09-15T15:02:07.309231Z",
     "start_time": "2022-09-15T15:02:07.280727Z"
    }
   },
   "outputs": [
    {
     "name": "stdout",
     "output_type": "stream",
     "text": [
      "Recall score using Logistic Regression is 0.4819277108433735\n"
     ]
    }
   ],
   "source": [
    "#check logistic regression recall score\n",
    "recall1_score = recall_score(y_test, pipeline.predict(X_test))\n",
    "recall1_score\n",
    "print(f'Recall score using Logistic Regression is {recall_score(y_test,pipeline.predict(X_test))}')"
   ]
  },
  {
   "cell_type": "code",
   "execution_count": 154,
   "id": "8a31d331",
   "metadata": {
    "ExecuteTime": {
     "end_time": "2022-09-15T15:12:32.572990Z",
     "start_time": "2022-09-15T15:12:32.561756Z"
    },
    "scrolled": false
   },
   "outputs": [
    {
     "name": "stdout",
     "output_type": "stream",
     "text": [
      "Feature importance are:\n",
      "       Year  FlightPhase      Risk  acc/1MillionFlights\n",
      "0  0.000258    -0.396183 -0.014086             0.034017\n"
     ]
    }
   ],
   "source": [
    "#check columns importance\n",
    "print(f'Feature importance are:')\n",
    "print(pd.DataFrame(pipeline1.named_steps['model'].coef_,columns=X_train.columns))"
   ]
  },
  {
   "cell_type": "code",
   "execution_count": 138,
   "id": "25d667c5",
   "metadata": {
    "ExecuteTime": {
     "end_time": "2022-09-15T15:02:38.147941Z",
     "start_time": "2022-09-15T15:02:37.895052Z"
    },
    "scrolled": true
   },
   "outputs": [
    {
     "data": {
      "image/png": "[encoded data removed]",
      "text/plain": [
       "<Figure size 576x396 with 2 Axes>"
      ]
     },
     "metadata": {},
     "output_type": "display_data"
    },
    {
     "data": {
      "text/plain": [
       "<Figure size 576x396 with 0 Axes>"
      ]
     },
     "metadata": {},
     "output_type": "display_data"
    }
   ],
   "source": [
    "#plot confusion matrix for Logistic Regression model\n",
    "plot_confusion_matrix(pipeline1.named_steps['model'], X_test, y_test, values_format='.0f')\n",
    "plt.show()\n",
    "plt.savefig('confusion_matrix_logistic_regression.png')"
   ]
  },
  {
   "cell_type": "code",
   "execution_count": 139,
   "id": "708d3324",
   "metadata": {
    "ExecuteTime": {
     "end_time": "2022-09-15T15:03:20.918647Z",
     "start_time": "2022-09-15T15:03:20.689757Z"
    }
   },
   "outputs": [
    {
     "data": {
      "image/png": "[encoded data removed]",
      "text/plain": [
       "<Figure size 720x432 with 1 Axes>"
      ]
     },
     "metadata": {},
     "output_type": "display_data"
    },
    {
     "data": {
      "text/plain": [
       "<Figure size 576x396 with 0 Axes>"
      ]
     },
     "metadata": {},
     "output_type": "display_data"
    }
   ],
   "source": [
    "#plot regplot to check the most relevant column (flight phase)\n",
    "fig, ax = plt.subplots(figsize=(10,6))\n",
    "sns.regplot(x=X_test['FlightPhase'], y=y_test, data=ac, logistic=True, ci=None)\n",
    "plt.xticks(ticks = range(0,9),labels=['Landing','Take-off','Approach','En route','Initial Climb',\n",
    "       'Standing','Taxi','Maneouvring','Unknown'],rotation=45)\n",
    "plt.show()\n",
    "plt.savefig('injuries_FlightPhase_regplot.png');"
   ]
  },
  {
   "cell_type": "code",
   "execution_count": 175,
   "id": "ed0a2bcb",
   "metadata": {
    "ExecuteTime": {
     "end_time": "2022-09-15T15:29:33.042723Z",
     "start_time": "2022-09-15T15:29:32.980067Z"
    },
    "scrolled": true
   },
   "outputs": [
    {
     "name": "stdout",
     "output_type": "stream",
     "text": [
      "Pipeline(memory=None,\n",
      "         steps=[('classifier',\n",
      "                 DecisionTreeClassifier(ccp_alpha=0.0, class_weight=None,\n",
      "                                        criterion='gini', max_depth=3,\n",
      "                                        max_features=None, max_leaf_nodes=None,\n",
      "                                        min_impurity_decrease=0.0,\n",
      "                                        min_samples_leaf=1, min_samples_split=2,\n",
      "                                        min_weight_fraction_leaf=0.0,\n",
      "                                        random_state=None, splitter='best'))],\n",
      "         verbose=False)\n"
     ]
    }
   ],
   "source": [
    "#create sklearn pipeline for firstly apply logistic regression model and fit it\n",
    "pipeline2 = Pipeline(steps=[('classifier',DecisionTreeClassifier(max_depth=3))])\n",
    "print(pipeline2.fit(X_train,y_train))"
   ]
  },
  {
   "cell_type": "code",
   "execution_count": 178,
   "id": "c232c055",
   "metadata": {
    "ExecuteTime": {
     "end_time": "2022-09-15T15:30:38.441597Z",
     "start_time": "2022-09-15T15:30:38.416516Z"
    },
    "scrolled": true
   },
   "outputs": [
    {
     "name": "stdout",
     "output_type": "stream",
     "text": [
      "[0 0 1 0 0 0 0 0 0 0 1 0 0 0 0 0 0 0 0 0 1 0 0 0 0 0 0 0 0 0 0 0 0 0 0 0 0\n",
      " 0 0 0 0 0 0 0 0 0 0 0 0 0 0 0 0 0 0 0 0 1 1 0 0 1 0 0 0 0 0 0 0 1 1 1 0 0\n",
      " 1 0 1 0 0 0 1 0 0 0 0 0 0 1 0 0 0 0 0 0 0 0 1 0 0 0 0 0 0 0 0 0 0 0 0 0 0\n",
      " 0 0 0 1 0 1 0 0 0 0 1 0 0 0 1 1 0 0 0 0 0 0 1 0 0 1 0 1 0 0 0 0 0 0 1 0 0\n",
      " 0 0 1 0 0 0 0 0 0 0 0 0 0 0 0 1 0 0 1 0 1 1 0 0 0 0 0 0 1 1 1 0 0 0 0 0 1\n",
      " 0 0 0 0 0 1 0 1 0 0 0 0 0 0 1 0 0 0 1 1 0 0 0 0 0 1 0 0 0 1 0 0 0 0 1 0 1\n",
      " 0 1 0 0 0 0 0 0 0 0 0 0 0 0 0 1 0 0 0 0 0 0 0 1 0 0 0 0 0 0 0 1 0 0 0 0 0\n",
      " 0 0 0 0 0 0 0 0 0 0 0 0 0 0 0 1 0 0 0 0 1 0 0 0 1 0 0 0 0 0 1 0 0 0 1 0 0\n",
      " 0 0 0 0 0 0]\n"
     ]
    }
   ],
   "source": [
    "#create y prediction\n",
    "y_pred = pipeline2.predict(X_test)\n",
    "print(y_pred)"
   ]
  },
  {
   "cell_type": "code",
   "execution_count": 157,
   "id": "94627175",
   "metadata": {
    "ExecuteTime": {
     "end_time": "2022-09-15T15:13:40.021084Z",
     "start_time": "2022-09-15T15:13:40.006326Z"
    },
    "scrolled": false
   },
   "outputs": [
    {
     "name": "stdout",
     "output_type": "stream",
     "text": [
      "Accuracy score using Decision Tree Classifier is 0.8245033112582781\n"
     ]
    }
   ],
   "source": [
    "#check tree decision accuracy score\n",
    "pipeline2.score(X_test,y_test)\n",
    "print(f'Accuracy score using Decision Tree Classifier is {pipeline2.score(X_test, y_test)}')"
   ]
  },
  {
   "cell_type": "code",
   "execution_count": 151,
   "id": "6ff2072f",
   "metadata": {
    "ExecuteTime": {
     "end_time": "2022-09-15T15:11:48.138167Z",
     "start_time": "2022-09-15T15:11:48.116589Z"
    }
   },
   "outputs": [
    {
     "name": "stdout",
     "output_type": "stream",
     "text": [
      "Precision score using Decision Tree Classifier is 0.8\n"
     ]
    }
   ],
   "source": [
    "#check tree decision precision score\n",
    "precision2_score = precision_score(y_test,pipeline2.predict(X_test))\n",
    "print(f'Precision score using Decision Tree Classifier is {precision2_score}')"
   ]
  },
  {
   "cell_type": "code",
   "execution_count": 156,
   "id": "435d9436",
   "metadata": {
    "ExecuteTime": {
     "end_time": "2022-09-15T15:13:27.090200Z",
     "start_time": "2022-09-15T15:13:27.054605Z"
    }
   },
   "outputs": [
    {
     "name": "stdout",
     "output_type": "stream",
     "text": [
      "Recall score using Decision Tree Classifier is 0.4819277108433735\n"
     ]
    }
   ],
   "source": [
    "#check tree decision recall score\n",
    "recall2_score = recall_score(y_test, pipeline2.predict(X_test))\n",
    "\n",
    "print(f'Recall score using Decision Tree Classifier is {recall2_score}')"
   ]
  },
  {
   "cell_type": "code",
   "execution_count": 147,
   "id": "34704b5c",
   "metadata": {
    "ExecuteTime": {
     "end_time": "2022-09-15T15:06:04.277806Z",
     "start_time": "2022-09-15T15:06:04.003923Z"
    }
   },
   "outputs": [
    {
     "data": {
      "image/png": "[encoded data removed]",
      "text/plain": [
       "<Figure size 576x396 with 2 Axes>"
      ]
     },
     "metadata": {},
     "output_type": "display_data"
    }
   ],
   "source": [
    "#plot confusion matrix for Tree Decision model\n",
    "plot_confusion_matrix(pipeline2.named_steps['classifier'], X_test, y_test, values_format='.0f')\n",
    "\n",
    "plt.savefig('confusion_matrix_tree_descision.png')"
   ]
  },
  {
   "cell_type": "code",
   "execution_count": 158,
   "id": "c0e3be54",
   "metadata": {
    "ExecuteTime": {
     "end_time": "2022-09-15T15:15:01.076003Z",
     "start_time": "2022-09-15T15:15:00.809441Z"
    }
   },
   "outputs": [
    {
     "name": "stdout",
     "output_type": "stream",
     "text": [
      "ROC curve: No data leak shown.\n"
     ]
    },
    {
     "data": {
      "image/png": "[encoded data removed]",
      "text/plain": [
       "<Figure size 720x432 with 1 Axes>"
      ]
     },
     "metadata": {},
     "output_type": "display_data"
    },
    {
     "data": {
      "text/plain": [
       "<Figure size 576x396 with 0 Axes>"
      ]
     },
     "metadata": {},
     "output_type": "display_data"
    }
   ],
   "source": [
    "#plot roc curve to check possible leaks\n",
    "print(f'ROC curve: No data leak shown.')\n",
    "fig, ax = plt.subplots(figsize=(10,6))\n",
    "plot_roc_curve(pipeline, X_train, y_train, color='blue', ax= ax, name='train')\n",
    "plot_roc_curve(pipeline, X_test, y_test, color='red', ax= ax, name='test')\n",
    "plt.show()              \n",
    "plt.savefig('roc_curve.png');"
   ]
  },
  {
   "cell_type": "code",
   "execution_count": 181,
   "id": "079cd50a",
   "metadata": {
    "ExecuteTime": {
     "end_time": "2022-09-15T15:33:44.710068Z",
     "start_time": "2022-09-15T15:33:43.589771Z"
    },
    "scrolled": false
   },
   "outputs": [
    {
     "name": "stdout",
     "output_type": "stream",
     "text": [
      "Decision Tree plot: It's showing how important flight phase is (lower possilities of fatal victims out of\n",
      "take off or landing flight phase).\n"
     ]
    },
    {
     "data": {
      "image/png": "[encoded data removed]",
      "text/plain": [
       "<Figure size 1008x720 with 1 Axes>"
      ]
     },
     "metadata": {},
     "output_type": "display_data"
    },
    {
     "data": {
      "text/plain": [
       "<Figure size 576x396 with 0 Axes>"
      ]
     },
     "metadata": {},
     "output_type": "display_data"
    }
   ],
   "source": [
    "# plot_tree to check Decision Tree performance\n",
    "print(\"Decision Tree plot: It's showing how important flight phase is (lower possilities of fatal victims out of\\ntake off or landing flight phase).\")\n",
    "fig,ax = plt.subplots(figsize=(14,10))\n",
    "plot_tree(pipeline2.named_steps['classifier'],feature_names = X.columns,filled=True)\n",
    "plt.show();\n",
    "plt.savefig('decision_tree.png'); "
   ]
  },
  {
   "cell_type": "markdown",
   "id": "95c4a106",
   "metadata": {},
   "source": [
    "# PYCARET PIPELINE"
   ]
  },
  {
   "cell_type": "code",
   "execution_count": 170,
   "id": "66dc5eb1",
   "metadata": {
    "ExecuteTime": {
     "end_time": "2022-09-15T15:26:37.790735Z",
     "start_time": "2022-09-15T15:26:37.775154Z"
    }
   },
   "outputs": [],
   "source": [
    "#split pycaret train/test variables\n",
    "data_train, data_test = train_test_split(ac, test_size=0.1,random_state=42)"
   ]
  },
  {
   "cell_type": "code",
   "execution_count": 172,
   "id": "747933ff",
   "metadata": {
    "ExecuteTime": {
     "end_time": "2022-09-15T15:26:56.244581Z",
     "start_time": "2022-09-15T15:26:46.918944Z"
    }
   },
   "outputs": [
    {
     "data": {
      "text/html": [
       "<style type=\"text/css\">\n",
       "</style>\n",
       "<table id=\"T_51ccb\">\n",
       "  <thead>\n",
       "    <tr>\n",
       "      <th class=\"blank level0\" >&nbsp;</th>\n",
       "      <th id=\"T_51ccb_level0_col0\" class=\"col_heading level0 col0\" >Description</th>\n",
       "      <th id=\"T_51ccb_level0_col1\" class=\"col_heading level0 col1\" >Value</th>\n",
       "    </tr>\n",
       "  </thead>\n",
       "  <tbody>\n",
       "    <tr>\n",
       "      <th id=\"T_51ccb_level0_row0\" class=\"row_heading level0 row0\" >0</th>\n",
       "      <td id=\"T_51ccb_row0_col0\" class=\"data row0 col0\" >session_id</td>\n",
       "      <td id=\"T_51ccb_row0_col1\" class=\"data row0 col1\" >42</td>\n",
       "    </tr>\n",
       "    <tr>\n",
       "      <th id=\"T_51ccb_level0_row1\" class=\"row_heading level0 row1\" >1</th>\n",
       "      <td id=\"T_51ccb_row1_col0\" class=\"data row1 col0\" >Target</td>\n",
       "      <td id=\"T_51ccb_row1_col1\" class=\"data row1 col1\" >Serious/Fatal</td>\n",
       "    </tr>\n",
       "    <tr>\n",
       "      <th id=\"T_51ccb_level0_row2\" class=\"row_heading level0 row2\" >2</th>\n",
       "      <td id=\"T_51ccb_row2_col0\" class=\"data row2 col0\" >Target Type</td>\n",
       "      <td id=\"T_51ccb_row2_col1\" class=\"data row2 col1\" >Binary</td>\n",
       "    </tr>\n",
       "    <tr>\n",
       "      <th id=\"T_51ccb_level0_row3\" class=\"row_heading level0 row3\" >3</th>\n",
       "      <td id=\"T_51ccb_row3_col0\" class=\"data row3 col0\" >Label Encoded</td>\n",
       "      <td id=\"T_51ccb_row3_col1\" class=\"data row3 col1\" >0: 0, 1: 1</td>\n",
       "    </tr>\n",
       "    <tr>\n",
       "      <th id=\"T_51ccb_level0_row4\" class=\"row_heading level0 row4\" >4</th>\n",
       "      <td id=\"T_51ccb_row4_col0\" class=\"data row4 col0\" >Original Data</td>\n",
       "      <td id=\"T_51ccb_row4_col1\" class=\"data row4 col1\" >(1356, 5)</td>\n",
       "    </tr>\n",
       "    <tr>\n",
       "      <th id=\"T_51ccb_level0_row5\" class=\"row_heading level0 row5\" >5</th>\n",
       "      <td id=\"T_51ccb_row5_col0\" class=\"data row5 col0\" >Missing Values</td>\n",
       "      <td id=\"T_51ccb_row5_col1\" class=\"data row5 col1\" >False</td>\n",
       "    </tr>\n",
       "    <tr>\n",
       "      <th id=\"T_51ccb_level0_row6\" class=\"row_heading level0 row6\" >6</th>\n",
       "      <td id=\"T_51ccb_row6_col0\" class=\"data row6 col0\" >Numeric Features</td>\n",
       "      <td id=\"T_51ccb_row6_col1\" class=\"data row6 col1\" >2</td>\n",
       "    </tr>\n",
       "    <tr>\n",
       "      <th id=\"T_51ccb_level0_row7\" class=\"row_heading level0 row7\" >7</th>\n",
       "      <td id=\"T_51ccb_row7_col0\" class=\"data row7 col0\" >Categorical Features</td>\n",
       "      <td id=\"T_51ccb_row7_col1\" class=\"data row7 col1\" >2</td>\n",
       "    </tr>\n",
       "    <tr>\n",
       "      <th id=\"T_51ccb_level0_row8\" class=\"row_heading level0 row8\" >8</th>\n",
       "      <td id=\"T_51ccb_row8_col0\" class=\"data row8 col0\" >Ordinal Features</td>\n",
       "      <td id=\"T_51ccb_row8_col1\" class=\"data row8 col1\" >False</td>\n",
       "    </tr>\n",
       "    <tr>\n",
       "      <th id=\"T_51ccb_level0_row9\" class=\"row_heading level0 row9\" >9</th>\n",
       "      <td id=\"T_51ccb_row9_col0\" class=\"data row9 col0\" >High Cardinality Features</td>\n",
       "      <td id=\"T_51ccb_row9_col1\" class=\"data row9 col1\" >False</td>\n",
       "    </tr>\n",
       "    <tr>\n",
       "      <th id=\"T_51ccb_level0_row10\" class=\"row_heading level0 row10\" >10</th>\n",
       "      <td id=\"T_51ccb_row10_col0\" class=\"data row10 col0\" >High Cardinality Method</td>\n",
       "      <td id=\"T_51ccb_row10_col1\" class=\"data row10 col1\" >None</td>\n",
       "    </tr>\n",
       "    <tr>\n",
       "      <th id=\"T_51ccb_level0_row11\" class=\"row_heading level0 row11\" >11</th>\n",
       "      <td id=\"T_51ccb_row11_col0\" class=\"data row11 col0\" >Transformed Train Set</td>\n",
       "      <td id=\"T_51ccb_row11_col1\" class=\"data row11 col1\" >(949, 26)</td>\n",
       "    </tr>\n",
       "    <tr>\n",
       "      <th id=\"T_51ccb_level0_row12\" class=\"row_heading level0 row12\" >12</th>\n",
       "      <td id=\"T_51ccb_row12_col0\" class=\"data row12 col0\" >Transformed Test Set</td>\n",
       "      <td id=\"T_51ccb_row12_col1\" class=\"data row12 col1\" >(407, 26)</td>\n",
       "    </tr>\n",
       "    <tr>\n",
       "      <th id=\"T_51ccb_level0_row13\" class=\"row_heading level0 row13\" >13</th>\n",
       "      <td id=\"T_51ccb_row13_col0\" class=\"data row13 col0\" >Shuffle Train-Test</td>\n",
       "      <td id=\"T_51ccb_row13_col1\" class=\"data row13 col1\" >True</td>\n",
       "    </tr>\n",
       "    <tr>\n",
       "      <th id=\"T_51ccb_level0_row14\" class=\"row_heading level0 row14\" >14</th>\n",
       "      <td id=\"T_51ccb_row14_col0\" class=\"data row14 col0\" >Stratify Train-Test</td>\n",
       "      <td id=\"T_51ccb_row14_col1\" class=\"data row14 col1\" >False</td>\n",
       "    </tr>\n",
       "    <tr>\n",
       "      <th id=\"T_51ccb_level0_row15\" class=\"row_heading level0 row15\" >15</th>\n",
       "      <td id=\"T_51ccb_row15_col0\" class=\"data row15 col0\" >Fold Generator</td>\n",
       "      <td id=\"T_51ccb_row15_col1\" class=\"data row15 col1\" >StratifiedKFold</td>\n",
       "    </tr>\n",
       "    <tr>\n",
       "      <th id=\"T_51ccb_level0_row16\" class=\"row_heading level0 row16\" >16</th>\n",
       "      <td id=\"T_51ccb_row16_col0\" class=\"data row16 col0\" >Fold Number</td>\n",
       "      <td id=\"T_51ccb_row16_col1\" class=\"data row16 col1\" >10</td>\n",
       "    </tr>\n",
       "    <tr>\n",
       "      <th id=\"T_51ccb_level0_row17\" class=\"row_heading level0 row17\" >17</th>\n",
       "      <td id=\"T_51ccb_row17_col0\" class=\"data row17 col0\" >CPU Jobs</td>\n",
       "      <td id=\"T_51ccb_row17_col1\" class=\"data row17 col1\" >-1</td>\n",
       "    </tr>\n",
       "    <tr>\n",
       "      <th id=\"T_51ccb_level0_row18\" class=\"row_heading level0 row18\" >18</th>\n",
       "      <td id=\"T_51ccb_row18_col0\" class=\"data row18 col0\" >Use GPU</td>\n",
       "      <td id=\"T_51ccb_row18_col1\" class=\"data row18 col1\" >False</td>\n",
       "    </tr>\n",
       "    <tr>\n",
       "      <th id=\"T_51ccb_level0_row19\" class=\"row_heading level0 row19\" >19</th>\n",
       "      <td id=\"T_51ccb_row19_col0\" class=\"data row19 col0\" >Log Experiment</td>\n",
       "      <td id=\"T_51ccb_row19_col1\" class=\"data row19 col1\" >False</td>\n",
       "    </tr>\n",
       "    <tr>\n",
       "      <th id=\"T_51ccb_level0_row20\" class=\"row_heading level0 row20\" >20</th>\n",
       "      <td id=\"T_51ccb_row20_col0\" class=\"data row20 col0\" >Experiment Name</td>\n",
       "      <td id=\"T_51ccb_row20_col1\" class=\"data row20 col1\" >clf-default-name</td>\n",
       "    </tr>\n",
       "    <tr>\n",
       "      <th id=\"T_51ccb_level0_row21\" class=\"row_heading level0 row21\" >21</th>\n",
       "      <td id=\"T_51ccb_row21_col0\" class=\"data row21 col0\" >USI</td>\n",
       "      <td id=\"T_51ccb_row21_col1\" class=\"data row21 col1\" >20fe</td>\n",
       "    </tr>\n",
       "    <tr>\n",
       "      <th id=\"T_51ccb_level0_row22\" class=\"row_heading level0 row22\" >22</th>\n",
       "      <td id=\"T_51ccb_row22_col0\" class=\"data row22 col0\" >Imputation Type</td>\n",
       "      <td id=\"T_51ccb_row22_col1\" class=\"data row22 col1\" >simple</td>\n",
       "    </tr>\n",
       "    <tr>\n",
       "      <th id=\"T_51ccb_level0_row23\" class=\"row_heading level0 row23\" >23</th>\n",
       "      <td id=\"T_51ccb_row23_col0\" class=\"data row23 col0\" >Iterative Imputation Iteration</td>\n",
       "      <td id=\"T_51ccb_row23_col1\" class=\"data row23 col1\" >None</td>\n",
       "    </tr>\n",
       "    <tr>\n",
       "      <th id=\"T_51ccb_level0_row24\" class=\"row_heading level0 row24\" >24</th>\n",
       "      <td id=\"T_51ccb_row24_col0\" class=\"data row24 col0\" >Numeric Imputer</td>\n",
       "      <td id=\"T_51ccb_row24_col1\" class=\"data row24 col1\" >mean</td>\n",
       "    </tr>\n",
       "    <tr>\n",
       "      <th id=\"T_51ccb_level0_row25\" class=\"row_heading level0 row25\" >25</th>\n",
       "      <td id=\"T_51ccb_row25_col0\" class=\"data row25 col0\" >Iterative Imputation Numeric Model</td>\n",
       "      <td id=\"T_51ccb_row25_col1\" class=\"data row25 col1\" >None</td>\n",
       "    </tr>\n",
       "    <tr>\n",
       "      <th id=\"T_51ccb_level0_row26\" class=\"row_heading level0 row26\" >26</th>\n",
       "      <td id=\"T_51ccb_row26_col0\" class=\"data row26 col0\" >Categorical Imputer</td>\n",
       "      <td id=\"T_51ccb_row26_col1\" class=\"data row26 col1\" >constant</td>\n",
       "    </tr>\n",
       "    <tr>\n",
       "      <th id=\"T_51ccb_level0_row27\" class=\"row_heading level0 row27\" >27</th>\n",
       "      <td id=\"T_51ccb_row27_col0\" class=\"data row27 col0\" >Iterative Imputation Categorical Model</td>\n",
       "      <td id=\"T_51ccb_row27_col1\" class=\"data row27 col1\" >None</td>\n",
       "    </tr>\n",
       "    <tr>\n",
       "      <th id=\"T_51ccb_level0_row28\" class=\"row_heading level0 row28\" >28</th>\n",
       "      <td id=\"T_51ccb_row28_col0\" class=\"data row28 col0\" >Unknown Categoricals Handling</td>\n",
       "      <td id=\"T_51ccb_row28_col1\" class=\"data row28 col1\" >least_frequent</td>\n",
       "    </tr>\n",
       "    <tr>\n",
       "      <th id=\"T_51ccb_level0_row29\" class=\"row_heading level0 row29\" >29</th>\n",
       "      <td id=\"T_51ccb_row29_col0\" class=\"data row29 col0\" >Normalize</td>\n",
       "      <td id=\"T_51ccb_row29_col1\" class=\"data row29 col1\" >False</td>\n",
       "    </tr>\n",
       "    <tr>\n",
       "      <th id=\"T_51ccb_level0_row30\" class=\"row_heading level0 row30\" >30</th>\n",
       "      <td id=\"T_51ccb_row30_col0\" class=\"data row30 col0\" >Normalize Method</td>\n",
       "      <td id=\"T_51ccb_row30_col1\" class=\"data row30 col1\" >None</td>\n",
       "    </tr>\n",
       "    <tr>\n",
       "      <th id=\"T_51ccb_level0_row31\" class=\"row_heading level0 row31\" >31</th>\n",
       "      <td id=\"T_51ccb_row31_col0\" class=\"data row31 col0\" >Transformation</td>\n",
       "      <td id=\"T_51ccb_row31_col1\" class=\"data row31 col1\" >False</td>\n",
       "    </tr>\n",
       "    <tr>\n",
       "      <th id=\"T_51ccb_level0_row32\" class=\"row_heading level0 row32\" >32</th>\n",
       "      <td id=\"T_51ccb_row32_col0\" class=\"data row32 col0\" >Transformation Method</td>\n",
       "      <td id=\"T_51ccb_row32_col1\" class=\"data row32 col1\" >None</td>\n",
       "    </tr>\n",
       "    <tr>\n",
       "      <th id=\"T_51ccb_level0_row33\" class=\"row_heading level0 row33\" >33</th>\n",
       "      <td id=\"T_51ccb_row33_col0\" class=\"data row33 col0\" >PCA</td>\n",
       "      <td id=\"T_51ccb_row33_col1\" class=\"data row33 col1\" >False</td>\n",
       "    </tr>\n",
       "    <tr>\n",
       "      <th id=\"T_51ccb_level0_row34\" class=\"row_heading level0 row34\" >34</th>\n",
       "      <td id=\"T_51ccb_row34_col0\" class=\"data row34 col0\" >PCA Method</td>\n",
       "      <td id=\"T_51ccb_row34_col1\" class=\"data row34 col1\" >None</td>\n",
       "    </tr>\n",
       "    <tr>\n",
       "      <th id=\"T_51ccb_level0_row35\" class=\"row_heading level0 row35\" >35</th>\n",
       "      <td id=\"T_51ccb_row35_col0\" class=\"data row35 col0\" >PCA Components</td>\n",
       "      <td id=\"T_51ccb_row35_col1\" class=\"data row35 col1\" >None</td>\n",
       "    </tr>\n",
       "    <tr>\n",
       "      <th id=\"T_51ccb_level0_row36\" class=\"row_heading level0 row36\" >36</th>\n",
       "      <td id=\"T_51ccb_row36_col0\" class=\"data row36 col0\" >Ignore Low Variance</td>\n",
       "      <td id=\"T_51ccb_row36_col1\" class=\"data row36 col1\" >False</td>\n",
       "    </tr>\n",
       "    <tr>\n",
       "      <th id=\"T_51ccb_level0_row37\" class=\"row_heading level0 row37\" >37</th>\n",
       "      <td id=\"T_51ccb_row37_col0\" class=\"data row37 col0\" >Combine Rare Levels</td>\n",
       "      <td id=\"T_51ccb_row37_col1\" class=\"data row37 col1\" >False</td>\n",
       "    </tr>\n",
       "    <tr>\n",
       "      <th id=\"T_51ccb_level0_row38\" class=\"row_heading level0 row38\" >38</th>\n",
       "      <td id=\"T_51ccb_row38_col0\" class=\"data row38 col0\" >Rare Level Threshold</td>\n",
       "      <td id=\"T_51ccb_row38_col1\" class=\"data row38 col1\" >None</td>\n",
       "    </tr>\n",
       "    <tr>\n",
       "      <th id=\"T_51ccb_level0_row39\" class=\"row_heading level0 row39\" >39</th>\n",
       "      <td id=\"T_51ccb_row39_col0\" class=\"data row39 col0\" >Numeric Binning</td>\n",
       "      <td id=\"T_51ccb_row39_col1\" class=\"data row39 col1\" >False</td>\n",
       "    </tr>\n",
       "    <tr>\n",
       "      <th id=\"T_51ccb_level0_row40\" class=\"row_heading level0 row40\" >40</th>\n",
       "      <td id=\"T_51ccb_row40_col0\" class=\"data row40 col0\" >Remove Outliers</td>\n",
       "      <td id=\"T_51ccb_row40_col1\" class=\"data row40 col1\" >False</td>\n",
       "    </tr>\n",
       "    <tr>\n",
       "      <th id=\"T_51ccb_level0_row41\" class=\"row_heading level0 row41\" >41</th>\n",
       "      <td id=\"T_51ccb_row41_col0\" class=\"data row41 col0\" >Outliers Threshold</td>\n",
       "      <td id=\"T_51ccb_row41_col1\" class=\"data row41 col1\" >None</td>\n",
       "    </tr>\n",
       "    <tr>\n",
       "      <th id=\"T_51ccb_level0_row42\" class=\"row_heading level0 row42\" >42</th>\n",
       "      <td id=\"T_51ccb_row42_col0\" class=\"data row42 col0\" >Remove Multicollinearity</td>\n",
       "      <td id=\"T_51ccb_row42_col1\" class=\"data row42 col1\" >False</td>\n",
       "    </tr>\n",
       "    <tr>\n",
       "      <th id=\"T_51ccb_level0_row43\" class=\"row_heading level0 row43\" >43</th>\n",
       "      <td id=\"T_51ccb_row43_col0\" class=\"data row43 col0\" >Multicollinearity Threshold</td>\n",
       "      <td id=\"T_51ccb_row43_col1\" class=\"data row43 col1\" >None</td>\n",
       "    </tr>\n",
       "    <tr>\n",
       "      <th id=\"T_51ccb_level0_row44\" class=\"row_heading level0 row44\" >44</th>\n",
       "      <td id=\"T_51ccb_row44_col0\" class=\"data row44 col0\" >Clustering</td>\n",
       "      <td id=\"T_51ccb_row44_col1\" class=\"data row44 col1\" >False</td>\n",
       "    </tr>\n",
       "    <tr>\n",
       "      <th id=\"T_51ccb_level0_row45\" class=\"row_heading level0 row45\" >45</th>\n",
       "      <td id=\"T_51ccb_row45_col0\" class=\"data row45 col0\" >Clustering Iteration</td>\n",
       "      <td id=\"T_51ccb_row45_col1\" class=\"data row45 col1\" >None</td>\n",
       "    </tr>\n",
       "    <tr>\n",
       "      <th id=\"T_51ccb_level0_row46\" class=\"row_heading level0 row46\" >46</th>\n",
       "      <td id=\"T_51ccb_row46_col0\" class=\"data row46 col0\" >Polynomial Features</td>\n",
       "      <td id=\"T_51ccb_row46_col1\" class=\"data row46 col1\" >False</td>\n",
       "    </tr>\n",
       "    <tr>\n",
       "      <th id=\"T_51ccb_level0_row47\" class=\"row_heading level0 row47\" >47</th>\n",
       "      <td id=\"T_51ccb_row47_col0\" class=\"data row47 col0\" >Polynomial Degree</td>\n",
       "      <td id=\"T_51ccb_row47_col1\" class=\"data row47 col1\" >None</td>\n",
       "    </tr>\n",
       "    <tr>\n",
       "      <th id=\"T_51ccb_level0_row48\" class=\"row_heading level0 row48\" >48</th>\n",
       "      <td id=\"T_51ccb_row48_col0\" class=\"data row48 col0\" >Trignometry Features</td>\n",
       "      <td id=\"T_51ccb_row48_col1\" class=\"data row48 col1\" >False</td>\n",
       "    </tr>\n",
       "    <tr>\n",
       "      <th id=\"T_51ccb_level0_row49\" class=\"row_heading level0 row49\" >49</th>\n",
       "      <td id=\"T_51ccb_row49_col0\" class=\"data row49 col0\" >Polynomial Threshold</td>\n",
       "      <td id=\"T_51ccb_row49_col1\" class=\"data row49 col1\" >None</td>\n",
       "    </tr>\n",
       "    <tr>\n",
       "      <th id=\"T_51ccb_level0_row50\" class=\"row_heading level0 row50\" >50</th>\n",
       "      <td id=\"T_51ccb_row50_col0\" class=\"data row50 col0\" >Group Features</td>\n",
       "      <td id=\"T_51ccb_row50_col1\" class=\"data row50 col1\" >False</td>\n",
       "    </tr>\n",
       "    <tr>\n",
       "      <th id=\"T_51ccb_level0_row51\" class=\"row_heading level0 row51\" >51</th>\n",
       "      <td id=\"T_51ccb_row51_col0\" class=\"data row51 col0\" >Feature Selection</td>\n",
       "      <td id=\"T_51ccb_row51_col1\" class=\"data row51 col1\" >False</td>\n",
       "    </tr>\n",
       "    <tr>\n",
       "      <th id=\"T_51ccb_level0_row52\" class=\"row_heading level0 row52\" >52</th>\n",
       "      <td id=\"T_51ccb_row52_col0\" class=\"data row52 col0\" >Features Selection Threshold</td>\n",
       "      <td id=\"T_51ccb_row52_col1\" class=\"data row52 col1\" >None</td>\n",
       "    </tr>\n",
       "    <tr>\n",
       "      <th id=\"T_51ccb_level0_row53\" class=\"row_heading level0 row53\" >53</th>\n",
       "      <td id=\"T_51ccb_row53_col0\" class=\"data row53 col0\" >Feature Interaction</td>\n",
       "      <td id=\"T_51ccb_row53_col1\" class=\"data row53 col1\" >False</td>\n",
       "    </tr>\n",
       "    <tr>\n",
       "      <th id=\"T_51ccb_level0_row54\" class=\"row_heading level0 row54\" >54</th>\n",
       "      <td id=\"T_51ccb_row54_col0\" class=\"data row54 col0\" >Feature Ratio</td>\n",
       "      <td id=\"T_51ccb_row54_col1\" class=\"data row54 col1\" >False</td>\n",
       "    </tr>\n",
       "    <tr>\n",
       "      <th id=\"T_51ccb_level0_row55\" class=\"row_heading level0 row55\" >55</th>\n",
       "      <td id=\"T_51ccb_row55_col0\" class=\"data row55 col0\" >Interaction Threshold</td>\n",
       "      <td id=\"T_51ccb_row55_col1\" class=\"data row55 col1\" >None</td>\n",
       "    </tr>\n",
       "    <tr>\n",
       "      <th id=\"T_51ccb_level0_row56\" class=\"row_heading level0 row56\" >56</th>\n",
       "      <td id=\"T_51ccb_row56_col0\" class=\"data row56 col0\" >Fix Imbalance</td>\n",
       "      <td id=\"T_51ccb_row56_col1\" class=\"data row56 col1\" >False</td>\n",
       "    </tr>\n",
       "    <tr>\n",
       "      <th id=\"T_51ccb_level0_row57\" class=\"row_heading level0 row57\" >57</th>\n",
       "      <td id=\"T_51ccb_row57_col0\" class=\"data row57 col0\" >Fix Imbalance Method</td>\n",
       "      <td id=\"T_51ccb_row57_col1\" class=\"data row57 col1\" >SMOTE</td>\n",
       "    </tr>\n",
       "  </tbody>\n",
       "</table>\n"
      ],
      "text/plain": [
       "<pandas.io.formats.style.Styler at 0x7fd0fe43c700>"
      ]
     },
     "metadata": {},
     "output_type": "display_data"
    },
    {
     "name": "stderr",
     "output_type": "stream",
     "text": [
      "INFO:logs:create_model_container: 0\n",
      "INFO:logs:master_model_container: 0\n",
      "INFO:logs:display_container: 0\n"
     ]
    },
    {
     "ename": "AttributeError",
     "evalue": "'Simple_Imputer' object has no attribute 'fill_value_categorical'",
     "output_type": "error",
     "traceback": [
      "\u001b[0;31m---------------------------------------------------------------------------\u001b[0m",
      "\u001b[0;31mAttributeError\u001b[0m                            Traceback (most recent call last)",
      "\u001b[0;32m/var/folders/b1/73l5jp1s275_80hff3y8kc6m0000gn/T/ipykernel_30711/3987776032.py\u001b[0m in \u001b[0;36m<module>\u001b[0;34m\u001b[0m\n\u001b[1;32m      1\u001b[0m \u001b[0;31m#check pycaret classification (press enter in the gap below to run it)\u001b[0m\u001b[0;34m\u001b[0m\u001b[0;34m\u001b[0m\u001b[0m\n\u001b[0;32m----> 2\u001b[0;31m \u001b[0mclassification\u001b[0m \u001b[0;34m=\u001b[0m \u001b[0msetup\u001b[0m\u001b[0;34m(\u001b[0m\u001b[0mdata\u001b[0m\u001b[0;34m=\u001b[0m\u001b[0mdata_train\u001b[0m\u001b[0;34m,\u001b[0m \u001b[0mtarget\u001b[0m \u001b[0;34m=\u001b[0m \u001b[0;34m'Serious/Fatal'\u001b[0m\u001b[0;34m,\u001b[0m\u001b[0msession_id\u001b[0m\u001b[0;34m=\u001b[0m\u001b[0;36m42\u001b[0m\u001b[0;34m,\u001b[0m\u001b[0mfold_shuffle\u001b[0m\u001b[0;34m=\u001b[0m\u001b[0;32mTrue\u001b[0m\u001b[0;34m)\u001b[0m\u001b[0;34m\u001b[0m\u001b[0;34m\u001b[0m\u001b[0m\n\u001b[0m\u001b[1;32m      3\u001b[0m \u001b[0mprint\u001b[0m\u001b[0;34m(\u001b[0m\u001b[0mclassification\u001b[0m\u001b[0;34m)\u001b[0m\u001b[0;34m\u001b[0m\u001b[0;34m\u001b[0m\u001b[0m\n",
      "\u001b[0;32m/opt/anaconda3/lib/python3.9/site-packages/pycaret/classification.py\u001b[0m in \u001b[0;36msetup\u001b[0;34m(data, target, train_size, test_data, preprocess, imputation_type, iterative_imputation_iters, categorical_features, categorical_imputation, categorical_iterative_imputer, ordinal_features, high_cardinality_features, high_cardinality_method, numeric_features, numeric_imputation, numeric_iterative_imputer, date_features, ignore_features, normalize, normalize_method, transformation, transformation_method, handle_unknown_categorical, unknown_categorical_method, pca, pca_method, pca_components, ignore_low_variance, combine_rare_levels, rare_level_threshold, bin_numeric_features, remove_outliers, outliers_threshold, remove_multicollinearity, multicollinearity_threshold, remove_perfect_collinearity, create_clusters, cluster_iter, polynomial_features, polynomial_degree, trigonometry_features, polynomial_threshold, group_features, group_names, feature_selection, feature_selection_threshold, feature_selection_method, feature_interaction, feature_ratio, interaction_threshold, fix_imbalance, fix_imbalance_method, data_split_shuffle, data_split_stratify, fold_strategy, fold, fold_shuffle, fold_groups, n_jobs, use_gpu, custom_pipeline, html, session_id, log_experiment, experiment_name, log_plots, log_profile, log_data, silent, verbose, profile, profile_kwargs)\u001b[0m\n\u001b[1;32m    578\u001b[0m         \u001b[0mlog_plots\u001b[0m \u001b[0;34m=\u001b[0m \u001b[0;34m[\u001b[0m\u001b[0;34m\"auc\"\u001b[0m\u001b[0;34m,\u001b[0m \u001b[0;34m\"confusion_matrix\"\u001b[0m\u001b[0;34m,\u001b[0m \u001b[0;34m\"feature\"\u001b[0m\u001b[0;34m]\u001b[0m\u001b[0;34m\u001b[0m\u001b[0;34m\u001b[0m\u001b[0m\n\u001b[1;32m    579\u001b[0m \u001b[0;34m\u001b[0m\u001b[0m\n\u001b[0;32m--> 580\u001b[0;31m     return pycaret.internal.tabular.setup(\n\u001b[0m\u001b[1;32m    581\u001b[0m         \u001b[0mml_usecase\u001b[0m\u001b[0;34m=\u001b[0m\u001b[0;34m\"classification\"\u001b[0m\u001b[0;34m,\u001b[0m\u001b[0;34m\u001b[0m\u001b[0;34m\u001b[0m\u001b[0m\n\u001b[1;32m    582\u001b[0m         \u001b[0mavailable_plots\u001b[0m\u001b[0;34m=\u001b[0m\u001b[0mavailable_plots\u001b[0m\u001b[0;34m,\u001b[0m\u001b[0;34m\u001b[0m\u001b[0;34m\u001b[0m\u001b[0m\n",
      "\u001b[0;32m/opt/anaconda3/lib/python3.9/site-packages/pycaret/internal/tabular.py\u001b[0m in \u001b[0;36msetup\u001b[0;34m(data, target, ml_usecase, available_plots, train_size, test_data, preprocess, imputation_type, iterative_imputation_iters, categorical_features, categorical_imputation, categorical_iterative_imputer, ordinal_features, high_cardinality_features, high_cardinality_method, numeric_features, numeric_imputation, numeric_iterative_imputer, date_features, ignore_features, normalize, normalize_method, transformation, transformation_method, handle_unknown_categorical, unknown_categorical_method, pca, pca_method, pca_components, ignore_low_variance, combine_rare_levels, rare_level_threshold, bin_numeric_features, remove_outliers, outliers_threshold, remove_multicollinearity, multicollinearity_threshold, remove_perfect_collinearity, create_clusters, cluster_iter, polynomial_features, polynomial_degree, trigonometry_features, polynomial_threshold, group_features, group_names, feature_selection, feature_selection_threshold, feature_selection_method, feature_interaction, feature_ratio, interaction_threshold, fix_imbalance, fix_imbalance_method, transform_target, transform_target_method, data_split_shuffle, data_split_stratify, fold_strategy, fold, fold_shuffle, fold_groups, n_jobs, use_gpu, custom_pipeline, html, session_id, log_experiment, experiment_name, log_plots, log_profile, log_data, silent, verbose, profile, profile_kwargs, display)\u001b[0m\n\u001b[1;32m   1743\u001b[0m     \u001b[0mlogger\u001b[0m\u001b[0;34m.\u001b[0m\u001b[0minfo\u001b[0m\u001b[0;34m(\u001b[0m\u001b[0;34mf\"display_container: {len(display_container)}\"\u001b[0m\u001b[0;34m)\u001b[0m\u001b[0;34m\u001b[0m\u001b[0;34m\u001b[0m\u001b[0m\n\u001b[1;32m   1744\u001b[0m \u001b[0;34m\u001b[0m\u001b[0m\n\u001b[0;32m-> 1745\u001b[0;31m     \u001b[0mlogger\u001b[0m\u001b[0;34m.\u001b[0m\u001b[0minfo\u001b[0m\u001b[0;34m(\u001b[0m\u001b[0mstr\u001b[0m\u001b[0;34m(\u001b[0m\u001b[0mprep_pipe\u001b[0m\u001b[0;34m)\u001b[0m\u001b[0;34m)\u001b[0m\u001b[0;34m\u001b[0m\u001b[0;34m\u001b[0m\u001b[0m\n\u001b[0m\u001b[1;32m   1746\u001b[0m     \u001b[0mlogger\u001b[0m\u001b[0;34m.\u001b[0m\u001b[0minfo\u001b[0m\u001b[0;34m(\u001b[0m\u001b[0;34m\"setup() succesfully completed......................................\"\u001b[0m\u001b[0;34m)\u001b[0m\u001b[0;34m\u001b[0m\u001b[0;34m\u001b[0m\u001b[0m\n\u001b[1;32m   1747\u001b[0m \u001b[0;34m\u001b[0m\u001b[0m\n",
      "\u001b[0;32m~/.local/lib/python3.9/site-packages/sklearn/base.py\u001b[0m in \u001b[0;36m__repr__\u001b[0;34m(self, N_CHAR_MAX)\u001b[0m\n\u001b[1;32m    277\u001b[0m         )\n\u001b[1;32m    278\u001b[0m \u001b[0;34m\u001b[0m\u001b[0m\n\u001b[0;32m--> 279\u001b[0;31m         \u001b[0mrepr_\u001b[0m \u001b[0;34m=\u001b[0m \u001b[0mpp\u001b[0m\u001b[0;34m.\u001b[0m\u001b[0mpformat\u001b[0m\u001b[0;34m(\u001b[0m\u001b[0mself\u001b[0m\u001b[0;34m)\u001b[0m\u001b[0;34m\u001b[0m\u001b[0;34m\u001b[0m\u001b[0m\n\u001b[0m\u001b[1;32m    280\u001b[0m \u001b[0;34m\u001b[0m\u001b[0m\n\u001b[1;32m    281\u001b[0m         \u001b[0;31m# Use bruteforce ellipsis when there are a lot of non-blank characters\u001b[0m\u001b[0;34m\u001b[0m\u001b[0;34m\u001b[0m\u001b[0m\n",
      "\u001b[0;32m/opt/anaconda3/lib/python3.9/pprint.py\u001b[0m in \u001b[0;36mpformat\u001b[0;34m(self, object)\u001b[0m\n\u001b[1;32m    151\u001b[0m     \u001b[0;32mdef\u001b[0m \u001b[0mpformat\u001b[0m\u001b[0;34m(\u001b[0m\u001b[0mself\u001b[0m\u001b[0;34m,\u001b[0m \u001b[0mobject\u001b[0m\u001b[0;34m)\u001b[0m\u001b[0;34m:\u001b[0m\u001b[0;34m\u001b[0m\u001b[0;34m\u001b[0m\u001b[0m\n\u001b[1;32m    152\u001b[0m         \u001b[0msio\u001b[0m \u001b[0;34m=\u001b[0m \u001b[0m_StringIO\u001b[0m\u001b[0;34m(\u001b[0m\u001b[0;34m)\u001b[0m\u001b[0;34m\u001b[0m\u001b[0;34m\u001b[0m\u001b[0m\n\u001b[0;32m--> 153\u001b[0;31m         \u001b[0mself\u001b[0m\u001b[0;34m.\u001b[0m\u001b[0m_format\u001b[0m\u001b[0;34m(\u001b[0m\u001b[0mobject\u001b[0m\u001b[0;34m,\u001b[0m \u001b[0msio\u001b[0m\u001b[0;34m,\u001b[0m \u001b[0;36m0\u001b[0m\u001b[0;34m,\u001b[0m \u001b[0;36m0\u001b[0m\u001b[0;34m,\u001b[0m \u001b[0;34m{\u001b[0m\u001b[0;34m}\u001b[0m\u001b[0;34m,\u001b[0m \u001b[0;36m0\u001b[0m\u001b[0;34m)\u001b[0m\u001b[0;34m\u001b[0m\u001b[0;34m\u001b[0m\u001b[0m\n\u001b[0m\u001b[1;32m    154\u001b[0m         \u001b[0;32mreturn\u001b[0m \u001b[0msio\u001b[0m\u001b[0;34m.\u001b[0m\u001b[0mgetvalue\u001b[0m\u001b[0;34m(\u001b[0m\u001b[0;34m)\u001b[0m\u001b[0;34m\u001b[0m\u001b[0;34m\u001b[0m\u001b[0m\n\u001b[1;32m    155\u001b[0m \u001b[0;34m\u001b[0m\u001b[0m\n",
      "\u001b[0;32m/opt/anaconda3/lib/python3.9/pprint.py\u001b[0m in \u001b[0;36m_format\u001b[0;34m(self, object, stream, indent, allowance, context, level)\u001b[0m\n\u001b[1;32m    168\u001b[0m             \u001b[0mself\u001b[0m\u001b[0;34m.\u001b[0m\u001b[0m_readable\u001b[0m \u001b[0;34m=\u001b[0m \u001b[0;32mFalse\u001b[0m\u001b[0;34m\u001b[0m\u001b[0;34m\u001b[0m\u001b[0m\n\u001b[1;32m    169\u001b[0m             \u001b[0;32mreturn\u001b[0m\u001b[0;34m\u001b[0m\u001b[0;34m\u001b[0m\u001b[0m\n\u001b[0;32m--> 170\u001b[0;31m         \u001b[0mrep\u001b[0m \u001b[0;34m=\u001b[0m \u001b[0mself\u001b[0m\u001b[0;34m.\u001b[0m\u001b[0m_repr\u001b[0m\u001b[0;34m(\u001b[0m\u001b[0mobject\u001b[0m\u001b[0;34m,\u001b[0m \u001b[0mcontext\u001b[0m\u001b[0;34m,\u001b[0m \u001b[0mlevel\u001b[0m\u001b[0;34m)\u001b[0m\u001b[0;34m\u001b[0m\u001b[0;34m\u001b[0m\u001b[0m\n\u001b[0m\u001b[1;32m    171\u001b[0m         \u001b[0mmax_width\u001b[0m \u001b[0;34m=\u001b[0m \u001b[0mself\u001b[0m\u001b[0;34m.\u001b[0m\u001b[0m_width\u001b[0m \u001b[0;34m-\u001b[0m \u001b[0mindent\u001b[0m \u001b[0;34m-\u001b[0m \u001b[0mallowance\u001b[0m\u001b[0;34m\u001b[0m\u001b[0;34m\u001b[0m\u001b[0m\n\u001b[1;32m    172\u001b[0m         \u001b[0;32mif\u001b[0m \u001b[0mlen\u001b[0m\u001b[0;34m(\u001b[0m\u001b[0mrep\u001b[0m\u001b[0;34m)\u001b[0m \u001b[0;34m>\u001b[0m \u001b[0mmax_width\u001b[0m\u001b[0;34m:\u001b[0m\u001b[0;34m\u001b[0m\u001b[0;34m\u001b[0m\u001b[0m\n",
      "\u001b[0;32m/opt/anaconda3/lib/python3.9/pprint.py\u001b[0m in \u001b[0;36m_repr\u001b[0;34m(self, object, context, level)\u001b[0m\n\u001b[1;32m    429\u001b[0m \u001b[0;34m\u001b[0m\u001b[0m\n\u001b[1;32m    430\u001b[0m     \u001b[0;32mdef\u001b[0m \u001b[0m_repr\u001b[0m\u001b[0;34m(\u001b[0m\u001b[0mself\u001b[0m\u001b[0;34m,\u001b[0m \u001b[0mobject\u001b[0m\u001b[0;34m,\u001b[0m \u001b[0mcontext\u001b[0m\u001b[0;34m,\u001b[0m \u001b[0mlevel\u001b[0m\u001b[0;34m)\u001b[0m\u001b[0;34m:\u001b[0m\u001b[0;34m\u001b[0m\u001b[0;34m\u001b[0m\u001b[0m\n\u001b[0;32m--> 431\u001b[0;31m         repr, readable, recursive = self.format(object, context.copy(),\n\u001b[0m\u001b[1;32m    432\u001b[0m                                                 self._depth, level)\n\u001b[1;32m    433\u001b[0m         \u001b[0;32mif\u001b[0m \u001b[0;32mnot\u001b[0m \u001b[0mreadable\u001b[0m\u001b[0;34m:\u001b[0m\u001b[0;34m\u001b[0m\u001b[0;34m\u001b[0m\u001b[0m\n",
      "\u001b[0;32m~/.local/lib/python3.9/site-packages/sklearn/utils/_pprint.py\u001b[0m in \u001b[0;36mformat\u001b[0;34m(self, object, context, maxlevels, level)\u001b[0m\n\u001b[1;32m    187\u001b[0m \u001b[0;34m\u001b[0m\u001b[0m\n\u001b[1;32m    188\u001b[0m     \u001b[0;32mdef\u001b[0m \u001b[0mformat\u001b[0m\u001b[0;34m(\u001b[0m\u001b[0mself\u001b[0m\u001b[0;34m,\u001b[0m \u001b[0mobject\u001b[0m\u001b[0;34m,\u001b[0m \u001b[0mcontext\u001b[0m\u001b[0;34m,\u001b[0m \u001b[0mmaxlevels\u001b[0m\u001b[0;34m,\u001b[0m \u001b[0mlevel\u001b[0m\u001b[0;34m)\u001b[0m\u001b[0;34m:\u001b[0m\u001b[0;34m\u001b[0m\u001b[0;34m\u001b[0m\u001b[0m\n\u001b[0;32m--> 189\u001b[0;31m         return _safe_repr(\n\u001b[0m\u001b[1;32m    190\u001b[0m             \u001b[0mobject\u001b[0m\u001b[0;34m,\u001b[0m \u001b[0mcontext\u001b[0m\u001b[0;34m,\u001b[0m \u001b[0mmaxlevels\u001b[0m\u001b[0;34m,\u001b[0m \u001b[0mlevel\u001b[0m\u001b[0;34m,\u001b[0m \u001b[0mchanged_only\u001b[0m\u001b[0;34m=\u001b[0m\u001b[0mself\u001b[0m\u001b[0;34m.\u001b[0m\u001b[0m_changed_only\u001b[0m\u001b[0;34m\u001b[0m\u001b[0;34m\u001b[0m\u001b[0m\n\u001b[1;32m    191\u001b[0m         )\n",
      "\u001b[0;32m~/.local/lib/python3.9/site-packages/sklearn/utils/_pprint.py\u001b[0m in \u001b[0;36m_safe_repr\u001b[0;34m(object, context, maxlevels, level, changed_only)\u001b[0m\n\u001b[1;32m    450\u001b[0m                 \u001b[0mk\u001b[0m\u001b[0;34m,\u001b[0m \u001b[0mcontext\u001b[0m\u001b[0;34m,\u001b[0m \u001b[0mmaxlevels\u001b[0m\u001b[0;34m,\u001b[0m \u001b[0mlevel\u001b[0m\u001b[0;34m,\u001b[0m \u001b[0mchanged_only\u001b[0m\u001b[0;34m=\u001b[0m\u001b[0mchanged_only\u001b[0m\u001b[0;34m\u001b[0m\u001b[0;34m\u001b[0m\u001b[0m\n\u001b[1;32m    451\u001b[0m             )\n\u001b[0;32m--> 452\u001b[0;31m             vrepr, vreadable, vrecur = saferepr(\n\u001b[0m\u001b[1;32m    453\u001b[0m                 \u001b[0mv\u001b[0m\u001b[0;34m,\u001b[0m \u001b[0mcontext\u001b[0m\u001b[0;34m,\u001b[0m \u001b[0mmaxlevels\u001b[0m\u001b[0;34m,\u001b[0m \u001b[0mlevel\u001b[0m\u001b[0;34m,\u001b[0m \u001b[0mchanged_only\u001b[0m\u001b[0;34m=\u001b[0m\u001b[0mchanged_only\u001b[0m\u001b[0;34m\u001b[0m\u001b[0;34m\u001b[0m\u001b[0m\n\u001b[1;32m    454\u001b[0m             )\n",
      "\u001b[0;32m~/.local/lib/python3.9/site-packages/sklearn/utils/_pprint.py\u001b[0m in \u001b[0;36m_safe_repr\u001b[0;34m(object, context, maxlevels, level, changed_only)\u001b[0m\n\u001b[1;32m    417\u001b[0m         \u001b[0mlevel\u001b[0m \u001b[0;34m+=\u001b[0m \u001b[0;36m1\u001b[0m\u001b[0;34m\u001b[0m\u001b[0;34m\u001b[0m\u001b[0m\n\u001b[1;32m    418\u001b[0m         \u001b[0;32mfor\u001b[0m \u001b[0mo\u001b[0m \u001b[0;32min\u001b[0m \u001b[0mobject\u001b[0m\u001b[0;34m:\u001b[0m\u001b[0;34m\u001b[0m\u001b[0;34m\u001b[0m\u001b[0m\n\u001b[0;32m--> 419\u001b[0;31m             orepr, oreadable, orecur = _safe_repr(\n\u001b[0m\u001b[1;32m    420\u001b[0m                 \u001b[0mo\u001b[0m\u001b[0;34m,\u001b[0m \u001b[0mcontext\u001b[0m\u001b[0;34m,\u001b[0m \u001b[0mmaxlevels\u001b[0m\u001b[0;34m,\u001b[0m \u001b[0mlevel\u001b[0m\u001b[0;34m,\u001b[0m \u001b[0mchanged_only\u001b[0m\u001b[0;34m=\u001b[0m\u001b[0mchanged_only\u001b[0m\u001b[0;34m\u001b[0m\u001b[0;34m\u001b[0m\u001b[0m\n\u001b[1;32m    421\u001b[0m             )\n",
      "\u001b[0;32m~/.local/lib/python3.9/site-packages/sklearn/utils/_pprint.py\u001b[0m in \u001b[0;36m_safe_repr\u001b[0;34m(object, context, maxlevels, level, changed_only)\u001b[0m\n\u001b[1;32m    417\u001b[0m         \u001b[0mlevel\u001b[0m \u001b[0;34m+=\u001b[0m \u001b[0;36m1\u001b[0m\u001b[0;34m\u001b[0m\u001b[0;34m\u001b[0m\u001b[0m\n\u001b[1;32m    418\u001b[0m         \u001b[0;32mfor\u001b[0m \u001b[0mo\u001b[0m \u001b[0;32min\u001b[0m \u001b[0mobject\u001b[0m\u001b[0;34m:\u001b[0m\u001b[0;34m\u001b[0m\u001b[0;34m\u001b[0m\u001b[0m\n\u001b[0;32m--> 419\u001b[0;31m             orepr, oreadable, orecur = _safe_repr(\n\u001b[0m\u001b[1;32m    420\u001b[0m                 \u001b[0mo\u001b[0m\u001b[0;34m,\u001b[0m \u001b[0mcontext\u001b[0m\u001b[0;34m,\u001b[0m \u001b[0mmaxlevels\u001b[0m\u001b[0;34m,\u001b[0m \u001b[0mlevel\u001b[0m\u001b[0;34m,\u001b[0m \u001b[0mchanged_only\u001b[0m\u001b[0;34m=\u001b[0m\u001b[0mchanged_only\u001b[0m\u001b[0;34m\u001b[0m\u001b[0;34m\u001b[0m\u001b[0m\n\u001b[1;32m    421\u001b[0m             )\n",
      "\u001b[0;32m~/.local/lib/python3.9/site-packages/sklearn/utils/_pprint.py\u001b[0m in \u001b[0;36m_safe_repr\u001b[0;34m(object, context, maxlevels, level, changed_only)\u001b[0m\n\u001b[1;32m    440\u001b[0m             \u001b[0mparams\u001b[0m \u001b[0;34m=\u001b[0m \u001b[0m_changed_params\u001b[0m\u001b[0;34m(\u001b[0m\u001b[0mobject\u001b[0m\u001b[0;34m)\u001b[0m\u001b[0;34m\u001b[0m\u001b[0;34m\u001b[0m\u001b[0m\n\u001b[1;32m    441\u001b[0m         \u001b[0;32melse\u001b[0m\u001b[0;34m:\u001b[0m\u001b[0;34m\u001b[0m\u001b[0;34m\u001b[0m\u001b[0m\n\u001b[0;32m--> 442\u001b[0;31m             \u001b[0mparams\u001b[0m \u001b[0;34m=\u001b[0m \u001b[0mobject\u001b[0m\u001b[0;34m.\u001b[0m\u001b[0mget_params\u001b[0m\u001b[0;34m(\u001b[0m\u001b[0mdeep\u001b[0m\u001b[0;34m=\u001b[0m\u001b[0;32mFalse\u001b[0m\u001b[0;34m)\u001b[0m\u001b[0;34m\u001b[0m\u001b[0;34m\u001b[0m\u001b[0m\n\u001b[0m\u001b[1;32m    443\u001b[0m         \u001b[0mcomponents\u001b[0m \u001b[0;34m=\u001b[0m \u001b[0;34m[\u001b[0m\u001b[0;34m]\u001b[0m\u001b[0;34m\u001b[0m\u001b[0;34m\u001b[0m\u001b[0m\n\u001b[1;32m    444\u001b[0m         \u001b[0mappend\u001b[0m \u001b[0;34m=\u001b[0m \u001b[0mcomponents\u001b[0m\u001b[0;34m.\u001b[0m\u001b[0mappend\u001b[0m\u001b[0;34m\u001b[0m\u001b[0;34m\u001b[0m\u001b[0m\n",
      "\u001b[0;32m~/.local/lib/python3.9/site-packages/sklearn/base.py\u001b[0m in \u001b[0;36mget_params\u001b[0;34m(self, deep)\u001b[0m\n\u001b[1;32m    209\u001b[0m         \u001b[0mout\u001b[0m \u001b[0;34m=\u001b[0m \u001b[0mdict\u001b[0m\u001b[0;34m(\u001b[0m\u001b[0;34m)\u001b[0m\u001b[0;34m\u001b[0m\u001b[0;34m\u001b[0m\u001b[0m\n\u001b[1;32m    210\u001b[0m         \u001b[0;32mfor\u001b[0m \u001b[0mkey\u001b[0m \u001b[0;32min\u001b[0m \u001b[0mself\u001b[0m\u001b[0;34m.\u001b[0m\u001b[0m_get_param_names\u001b[0m\u001b[0;34m(\u001b[0m\u001b[0;34m)\u001b[0m\u001b[0;34m:\u001b[0m\u001b[0;34m\u001b[0m\u001b[0;34m\u001b[0m\u001b[0m\n\u001b[0;32m--> 211\u001b[0;31m             \u001b[0mvalue\u001b[0m \u001b[0;34m=\u001b[0m \u001b[0mgetattr\u001b[0m\u001b[0;34m(\u001b[0m\u001b[0mself\u001b[0m\u001b[0;34m,\u001b[0m \u001b[0mkey\u001b[0m\u001b[0;34m)\u001b[0m\u001b[0;34m\u001b[0m\u001b[0;34m\u001b[0m\u001b[0m\n\u001b[0m\u001b[1;32m    212\u001b[0m             \u001b[0;32mif\u001b[0m \u001b[0mdeep\u001b[0m \u001b[0;32mand\u001b[0m \u001b[0mhasattr\u001b[0m\u001b[0;34m(\u001b[0m\u001b[0mvalue\u001b[0m\u001b[0;34m,\u001b[0m \u001b[0;34m\"get_params\"\u001b[0m\u001b[0;34m)\u001b[0m\u001b[0;34m:\u001b[0m\u001b[0;34m\u001b[0m\u001b[0;34m\u001b[0m\u001b[0m\n\u001b[1;32m    213\u001b[0m                 \u001b[0mdeep_items\u001b[0m \u001b[0;34m=\u001b[0m \u001b[0mvalue\u001b[0m\u001b[0;34m.\u001b[0m\u001b[0mget_params\u001b[0m\u001b[0;34m(\u001b[0m\u001b[0;34m)\u001b[0m\u001b[0;34m.\u001b[0m\u001b[0mitems\u001b[0m\u001b[0;34m(\u001b[0m\u001b[0;34m)\u001b[0m\u001b[0;34m\u001b[0m\u001b[0;34m\u001b[0m\u001b[0m\n",
      "\u001b[0;31mAttributeError\u001b[0m: 'Simple_Imputer' object has no attribute 'fill_value_categorical'"
     ]
    }
   ],
   "source": [
    "#check pycaret classification (press enter in the gap below to run it)\n",
    "classification = setup(data=data_train, target = 'Serious/Fatal',session_id=42,fold_shuffle=True)\n",
    "print(classification)"
   ]
  },
  {
   "cell_type": "code",
   "execution_count": 180,
   "id": "1f222ea7",
   "metadata": {
    "ExecuteTime": {
     "end_time": "2022-09-15T15:33:43.579071Z",
     "start_time": "2022-09-15T15:33:15.235744Z"
    }
   },
   "outputs": [
    {
     "data": {
      "text/html": [
       "<style type=\"text/css\">\n",
       "#T_a3f95 th {\n",
       "  text-align: left;\n",
       "}\n",
       "#T_a3f95_row0_col0, #T_a3f95_row0_col3, #T_a3f95_row0_col5, #T_a3f95_row0_col6, #T_a3f95_row0_col7, #T_a3f95_row1_col0, #T_a3f95_row1_col1, #T_a3f95_row1_col2, #T_a3f95_row1_col3, #T_a3f95_row1_col4, #T_a3f95_row2_col0, #T_a3f95_row2_col1, #T_a3f95_row2_col2, #T_a3f95_row2_col3, #T_a3f95_row2_col4, #T_a3f95_row2_col5, #T_a3f95_row2_col6, #T_a3f95_row2_col7, #T_a3f95_row3_col0, #T_a3f95_row3_col1, #T_a3f95_row3_col2, #T_a3f95_row3_col3, #T_a3f95_row3_col4, #T_a3f95_row3_col5, #T_a3f95_row3_col6, #T_a3f95_row3_col7, #T_a3f95_row4_col0, #T_a3f95_row4_col1, #T_a3f95_row4_col2, #T_a3f95_row4_col3, #T_a3f95_row4_col4, #T_a3f95_row4_col5, #T_a3f95_row4_col6, #T_a3f95_row4_col7, #T_a3f95_row5_col0, #T_a3f95_row5_col1, #T_a3f95_row5_col2, #T_a3f95_row5_col3, #T_a3f95_row5_col4, #T_a3f95_row5_col5, #T_a3f95_row5_col6, #T_a3f95_row5_col7, #T_a3f95_row6_col0, #T_a3f95_row6_col1, #T_a3f95_row6_col2, #T_a3f95_row6_col3, #T_a3f95_row6_col4, #T_a3f95_row6_col5, #T_a3f95_row6_col6, #T_a3f95_row6_col7, #T_a3f95_row7_col0, #T_a3f95_row7_col1, #T_a3f95_row7_col2, #T_a3f95_row7_col3, #T_a3f95_row7_col4, #T_a3f95_row7_col5, #T_a3f95_row7_col6, #T_a3f95_row7_col7, #T_a3f95_row8_col0, #T_a3f95_row8_col1, #T_a3f95_row8_col2, #T_a3f95_row8_col3, #T_a3f95_row8_col4, #T_a3f95_row8_col5, #T_a3f95_row8_col6, #T_a3f95_row8_col7, #T_a3f95_row9_col0, #T_a3f95_row9_col1, #T_a3f95_row9_col2, #T_a3f95_row9_col3, #T_a3f95_row9_col4, #T_a3f95_row9_col5, #T_a3f95_row9_col6, #T_a3f95_row9_col7, #T_a3f95_row10_col0, #T_a3f95_row10_col1, #T_a3f95_row10_col2, #T_a3f95_row10_col3, #T_a3f95_row10_col4, #T_a3f95_row10_col5, #T_a3f95_row10_col6, #T_a3f95_row10_col7, #T_a3f95_row11_col0, #T_a3f95_row11_col1, #T_a3f95_row11_col2, #T_a3f95_row11_col3, #T_a3f95_row11_col4, #T_a3f95_row11_col5, #T_a3f95_row11_col6, #T_a3f95_row11_col7, #T_a3f95_row12_col0, #T_a3f95_row12_col1, #T_a3f95_row12_col2, #T_a3f95_row12_col3, #T_a3f95_row12_col4, #T_a3f95_row12_col5, #T_a3f95_row12_col6, #T_a3f95_row12_col7, #T_a3f95_row13_col0, #T_a3f95_row13_col1, #T_a3f95_row13_col2, #T_a3f95_row13_col3, #T_a3f95_row13_col4, #T_a3f95_row13_col5, #T_a3f95_row13_col6, #T_a3f95_row13_col7, #T_a3f95_row14_col0, #T_a3f95_row14_col1, #T_a3f95_row14_col2, #T_a3f95_row14_col4, #T_a3f95_row14_col5, #T_a3f95_row14_col6, #T_a3f95_row14_col7 {\n",
       "  text-align: left;\n",
       "}\n",
       "#T_a3f95_row0_col1, #T_a3f95_row0_col2, #T_a3f95_row0_col4, #T_a3f95_row1_col5, #T_a3f95_row1_col6, #T_a3f95_row1_col7, #T_a3f95_row14_col3 {\n",
       "  text-align: left;\n",
       "  background-color: yellow;\n",
       "}\n",
       "#T_a3f95_row0_col8, #T_a3f95_row1_col8, #T_a3f95_row2_col8, #T_a3f95_row3_col8, #T_a3f95_row4_col8, #T_a3f95_row5_col8, #T_a3f95_row6_col8, #T_a3f95_row7_col8, #T_a3f95_row9_col8, #T_a3f95_row10_col8, #T_a3f95_row11_col8, #T_a3f95_row12_col8, #T_a3f95_row13_col8 {\n",
       "  text-align: left;\n",
       "  background-color: lightgrey;\n",
       "}\n",
       "#T_a3f95_row8_col8, #T_a3f95_row14_col8 {\n",
       "  text-align: left;\n",
       "  background-color: yellow;\n",
       "  background-color: lightgrey;\n",
       "}\n",
       "</style>\n",
       "<table id=\"T_a3f95\">\n",
       "  <thead>\n",
       "    <tr>\n",
       "      <th class=\"blank level0\" >&nbsp;</th>\n",
       "      <th id=\"T_a3f95_level0_col0\" class=\"col_heading level0 col0\" >Model</th>\n",
       "      <th id=\"T_a3f95_level0_col1\" class=\"col_heading level0 col1\" >Accuracy</th>\n",
       "      <th id=\"T_a3f95_level0_col2\" class=\"col_heading level0 col2\" >AUC</th>\n",
       "      <th id=\"T_a3f95_level0_col3\" class=\"col_heading level0 col3\" >Recall</th>\n",
       "      <th id=\"T_a3f95_level0_col4\" class=\"col_heading level0 col4\" >Prec.</th>\n",
       "      <th id=\"T_a3f95_level0_col5\" class=\"col_heading level0 col5\" >F1</th>\n",
       "      <th id=\"T_a3f95_level0_col6\" class=\"col_heading level0 col6\" >Kappa</th>\n",
       "      <th id=\"T_a3f95_level0_col7\" class=\"col_heading level0 col7\" >MCC</th>\n",
       "      <th id=\"T_a3f95_level0_col8\" class=\"col_heading level0 col8\" >TT (Sec)</th>\n",
       "    </tr>\n",
       "  </thead>\n",
       "  <tbody>\n",
       "    <tr>\n",
       "      <th id=\"T_a3f95_level0_row0\" class=\"row_heading level0 row0\" >gbc</th>\n",
       "      <td id=\"T_a3f95_row0_col0\" class=\"data row0 col0\" >Gradient Boosting Classifier</td>\n",
       "      <td id=\"T_a3f95_row0_col1\" class=\"data row0 col1\" >0.8693</td>\n",
       "      <td id=\"T_a3f95_row0_col2\" class=\"data row0 col2\" >0.8628</td>\n",
       "      <td id=\"T_a3f95_row0_col3\" class=\"data row0 col3\" >0.6120</td>\n",
       "      <td id=\"T_a3f95_row0_col4\" class=\"data row0 col4\" >0.8124</td>\n",
       "      <td id=\"T_a3f95_row0_col5\" class=\"data row0 col5\" >0.6916</td>\n",
       "      <td id=\"T_a3f95_row0_col6\" class=\"data row0 col6\" >0.6117</td>\n",
       "      <td id=\"T_a3f95_row0_col7\" class=\"data row0 col7\" >0.6254</td>\n",
       "      <td id=\"T_a3f95_row0_col8\" class=\"data row0 col8\" >0.2140</td>\n",
       "    </tr>\n",
       "    <tr>\n",
       "      <th id=\"T_a3f95_level0_row1\" class=\"row_heading level0 row1\" >xgboost</th>\n",
       "      <td id=\"T_a3f95_row1_col0\" class=\"data row1 col0\" >Extreme Gradient Boosting</td>\n",
       "      <td id=\"T_a3f95_row1_col1\" class=\"data row1 col1\" >0.8662</td>\n",
       "      <td id=\"T_a3f95_row1_col2\" class=\"data row1 col2\" >0.8497</td>\n",
       "      <td id=\"T_a3f95_row1_col3\" class=\"data row1 col3\" >0.6636</td>\n",
       "      <td id=\"T_a3f95_row1_col4\" class=\"data row1 col4\" >0.7669</td>\n",
       "      <td id=\"T_a3f95_row1_col5\" class=\"data row1 col5\" >0.7043</td>\n",
       "      <td id=\"T_a3f95_row1_col6\" class=\"data row1 col6\" >0.6192</td>\n",
       "      <td id=\"T_a3f95_row1_col7\" class=\"data row1 col7\" >0.6269</td>\n",
       "      <td id=\"T_a3f95_row1_col8\" class=\"data row1 col8\" >0.1820</td>\n",
       "    </tr>\n",
       "    <tr>\n",
       "      <th id=\"T_a3f95_level0_row2\" class=\"row_heading level0 row2\" >lightgbm</th>\n",
       "      <td id=\"T_a3f95_row2_col0\" class=\"data row2 col0\" >Light Gradient Boosting Machine</td>\n",
       "      <td id=\"T_a3f95_row2_col1\" class=\"data row2 col1\" >0.8661</td>\n",
       "      <td id=\"T_a3f95_row2_col2\" class=\"data row2 col2\" >0.8506</td>\n",
       "      <td id=\"T_a3f95_row2_col3\" class=\"data row2 col3\" >0.6502</td>\n",
       "      <td id=\"T_a3f95_row2_col4\" class=\"data row2 col4\" >0.7714</td>\n",
       "      <td id=\"T_a3f95_row2_col5\" class=\"data row2 col5\" >0.6996</td>\n",
       "      <td id=\"T_a3f95_row2_col6\" class=\"data row2 col6\" >0.6151</td>\n",
       "      <td id=\"T_a3f95_row2_col7\" class=\"data row2 col7\" >0.6227</td>\n",
       "      <td id=\"T_a3f95_row2_col8\" class=\"data row2 col8\" >0.0400</td>\n",
       "    </tr>\n",
       "    <tr>\n",
       "      <th id=\"T_a3f95_level0_row3\" class=\"row_heading level0 row3\" >catboost</th>\n",
       "      <td id=\"T_a3f95_row3_col0\" class=\"data row3 col0\" >CatBoost Classifier</td>\n",
       "      <td id=\"T_a3f95_row3_col1\" class=\"data row3 col1\" >0.8630</td>\n",
       "      <td id=\"T_a3f95_row3_col2\" class=\"data row3 col2\" >0.8553</td>\n",
       "      <td id=\"T_a3f95_row3_col3\" class=\"data row3 col3\" >0.6163</td>\n",
       "      <td id=\"T_a3f95_row3_col4\" class=\"data row3 col4\" >0.7837</td>\n",
       "      <td id=\"T_a3f95_row3_col5\" class=\"data row3 col5\" >0.6832</td>\n",
       "      <td id=\"T_a3f95_row3_col6\" class=\"data row3 col6\" >0.5984</td>\n",
       "      <td id=\"T_a3f95_row3_col7\" class=\"data row3 col7\" >0.6095</td>\n",
       "      <td id=\"T_a3f95_row3_col8\" class=\"data row3 col8\" >0.3240</td>\n",
       "    </tr>\n",
       "    <tr>\n",
       "      <th id=\"T_a3f95_level0_row4\" class=\"row_heading level0 row4\" >knn</th>\n",
       "      <td id=\"T_a3f95_row4_col0\" class=\"data row4 col0\" >K Neighbors Classifier</td>\n",
       "      <td id=\"T_a3f95_row4_col1\" class=\"data row4 col1\" >0.8609</td>\n",
       "      <td id=\"T_a3f95_row4_col2\" class=\"data row4 col2\" >0.8227</td>\n",
       "      <td id=\"T_a3f95_row4_col3\" class=\"data row4 col3\" >0.6462</td>\n",
       "      <td id=\"T_a3f95_row4_col4\" class=\"data row4 col4\" >0.7514</td>\n",
       "      <td id=\"T_a3f95_row4_col5\" class=\"data row4 col5\" >0.6916</td>\n",
       "      <td id=\"T_a3f95_row4_col6\" class=\"data row4 col6\" >0.6029</td>\n",
       "      <td id=\"T_a3f95_row4_col7\" class=\"data row4 col7\" >0.6079</td>\n",
       "      <td id=\"T_a3f95_row4_col8\" class=\"data row4 col8\" >0.0460</td>\n",
       "    </tr>\n",
       "    <tr>\n",
       "      <th id=\"T_a3f95_level0_row5\" class=\"row_heading level0 row5\" >ada</th>\n",
       "      <td id=\"T_a3f95_row5_col0\" class=\"data row5 col0\" >Ada Boost Classifier</td>\n",
       "      <td id=\"T_a3f95_row5_col1\" class=\"data row5 col1\" >0.8567</td>\n",
       "      <td id=\"T_a3f95_row5_col2\" class=\"data row5 col2\" >0.8405</td>\n",
       "      <td id=\"T_a3f95_row5_col3\" class=\"data row5 col3\" >0.6034</td>\n",
       "      <td id=\"T_a3f95_row5_col4\" class=\"data row5 col4\" >0.7670</td>\n",
       "      <td id=\"T_a3f95_row5_col5\" class=\"data row5 col5\" >0.6697</td>\n",
       "      <td id=\"T_a3f95_row5_col6\" class=\"data row5 col6\" >0.5807</td>\n",
       "      <td id=\"T_a3f95_row5_col7\" class=\"data row5 col7\" >0.5910</td>\n",
       "      <td id=\"T_a3f95_row5_col8\" class=\"data row5 col8\" >0.1870</td>\n",
       "    </tr>\n",
       "    <tr>\n",
       "      <th id=\"T_a3f95_level0_row6\" class=\"row_heading level0 row6\" >rf</th>\n",
       "      <td id=\"T_a3f95_row6_col0\" class=\"data row6 col0\" >Random Forest Classifier</td>\n",
       "      <td id=\"T_a3f95_row6_col1\" class=\"data row6 col1\" >0.8556</td>\n",
       "      <td id=\"T_a3f95_row6_col2\" class=\"data row6 col2\" >0.8378</td>\n",
       "      <td id=\"T_a3f95_row6_col3\" class=\"data row6 col3\" >0.6422</td>\n",
       "      <td id=\"T_a3f95_row6_col4\" class=\"data row6 col4\" >0.7404</td>\n",
       "      <td id=\"T_a3f95_row6_col5\" class=\"data row6 col5\" >0.6828</td>\n",
       "      <td id=\"T_a3f95_row6_col6\" class=\"data row6 col6\" >0.5906</td>\n",
       "      <td id=\"T_a3f95_row6_col7\" class=\"data row6 col7\" >0.5964</td>\n",
       "      <td id=\"T_a3f95_row6_col8\" class=\"data row6 col8\" >0.4930</td>\n",
       "    </tr>\n",
       "    <tr>\n",
       "      <th id=\"T_a3f95_level0_row7\" class=\"row_heading level0 row7\" >dt</th>\n",
       "      <td id=\"T_a3f95_row7_col0\" class=\"data row7 col0\" >Decision Tree Classifier</td>\n",
       "      <td id=\"T_a3f95_row7_col1\" class=\"data row7 col1\" >0.8503</td>\n",
       "      <td id=\"T_a3f95_row7_col2\" class=\"data row7 col2\" >0.7769</td>\n",
       "      <td id=\"T_a3f95_row7_col3\" class=\"data row7 col3\" >0.6377</td>\n",
       "      <td id=\"T_a3f95_row7_col4\" class=\"data row7 col4\" >0.7221</td>\n",
       "      <td id=\"T_a3f95_row7_col5\" class=\"data row7 col5\" >0.6707</td>\n",
       "      <td id=\"T_a3f95_row7_col6\" class=\"data row7 col6\" >0.5755</td>\n",
       "      <td id=\"T_a3f95_row7_col7\" class=\"data row7 col7\" >0.5813</td>\n",
       "      <td id=\"T_a3f95_row7_col8\" class=\"data row7 col8\" >0.0230</td>\n",
       "    </tr>\n",
       "    <tr>\n",
       "      <th id=\"T_a3f95_level0_row8\" class=\"row_heading level0 row8\" >ridge</th>\n",
       "      <td id=\"T_a3f95_row8_col0\" class=\"data row8 col0\" >Ridge Classifier</td>\n",
       "      <td id=\"T_a3f95_row8_col1\" class=\"data row8 col1\" >0.8503</td>\n",
       "      <td id=\"T_a3f95_row8_col2\" class=\"data row8 col2\" >0.0000</td>\n",
       "      <td id=\"T_a3f95_row8_col3\" class=\"data row8 col3\" >0.6424</td>\n",
       "      <td id=\"T_a3f95_row8_col4\" class=\"data row8 col4\" >0.7201</td>\n",
       "      <td id=\"T_a3f95_row8_col5\" class=\"data row8 col5\" >0.6732</td>\n",
       "      <td id=\"T_a3f95_row8_col6\" class=\"data row8 col6\" >0.5775</td>\n",
       "      <td id=\"T_a3f95_row8_col7\" class=\"data row8 col7\" >0.5830</td>\n",
       "      <td id=\"T_a3f95_row8_col8\" class=\"data row8 col8\" >0.0180</td>\n",
       "    </tr>\n",
       "    <tr>\n",
       "      <th id=\"T_a3f95_level0_row9\" class=\"row_heading level0 row9\" >et</th>\n",
       "      <td id=\"T_a3f95_row9_col0\" class=\"data row9 col0\" >Extra Trees Classifier</td>\n",
       "      <td id=\"T_a3f95_row9_col1\" class=\"data row9 col1\" >0.8482</td>\n",
       "      <td id=\"T_a3f95_row9_col2\" class=\"data row9 col2\" >0.8030</td>\n",
       "      <td id=\"T_a3f95_row9_col3\" class=\"data row9 col3\" >0.6034</td>\n",
       "      <td id=\"T_a3f95_row9_col4\" class=\"data row9 col4\" >0.7307</td>\n",
       "      <td id=\"T_a3f95_row9_col5\" class=\"data row9 col5\" >0.6557</td>\n",
       "      <td id=\"T_a3f95_row9_col6\" class=\"data row9 col6\" >0.5606</td>\n",
       "      <td id=\"T_a3f95_row9_col7\" class=\"data row9 col7\" >0.5679</td>\n",
       "      <td id=\"T_a3f95_row9_col8\" class=\"data row9 col8\" >0.2360</td>\n",
       "    </tr>\n",
       "    <tr>\n",
       "      <th id=\"T_a3f95_level0_row10\" class=\"row_heading level0 row10\" >lda</th>\n",
       "      <td id=\"T_a3f95_row10_col0\" class=\"data row10 col0\" >Linear Discriminant Analysis</td>\n",
       "      <td id=\"T_a3f95_row10_col1\" class=\"data row10 col1\" >0.8472</td>\n",
       "      <td id=\"T_a3f95_row10_col2\" class=\"data row10 col2\" >0.8460</td>\n",
       "      <td id=\"T_a3f95_row10_col3\" class=\"data row10 col3\" >0.6424</td>\n",
       "      <td id=\"T_a3f95_row10_col4\" class=\"data row10 col4\" >0.7094</td>\n",
       "      <td id=\"T_a3f95_row10_col5\" class=\"data row10 col5\" >0.6688</td>\n",
       "      <td id=\"T_a3f95_row10_col6\" class=\"data row10 col6\" >0.5706</td>\n",
       "      <td id=\"T_a3f95_row10_col7\" class=\"data row10 col7\" >0.5755</td>\n",
       "      <td id=\"T_a3f95_row10_col8\" class=\"data row10 col8\" >0.0210</td>\n",
       "    </tr>\n",
       "    <tr>\n",
       "      <th id=\"T_a3f95_level0_row11\" class=\"row_heading level0 row11\" >lr</th>\n",
       "      <td id=\"T_a3f95_row11_col0\" class=\"data row11 col0\" >Logistic Regression</td>\n",
       "      <td id=\"T_a3f95_row11_col1\" class=\"data row11 col1\" >0.8461</td>\n",
       "      <td id=\"T_a3f95_row11_col2\" class=\"data row11 col2\" >0.8473</td>\n",
       "      <td id=\"T_a3f95_row11_col3\" class=\"data row11 col3\" >0.6034</td>\n",
       "      <td id=\"T_a3f95_row11_col4\" class=\"data row11 col4\" >0.7226</td>\n",
       "      <td id=\"T_a3f95_row11_col5\" class=\"data row11 col5\" >0.6517</td>\n",
       "      <td id=\"T_a3f95_row11_col6\" class=\"data row11 col6\" >0.5551</td>\n",
       "      <td id=\"T_a3f95_row11_col7\" class=\"data row11 col7\" >0.5625</td>\n",
       "      <td id=\"T_a3f95_row11_col8\" class=\"data row11 col8\" >0.0530</td>\n",
       "    </tr>\n",
       "    <tr>\n",
       "      <th id=\"T_a3f95_level0_row12\" class=\"row_heading level0 row12\" >svm</th>\n",
       "      <td id=\"T_a3f95_row12_col0\" class=\"data row12 col0\" >SVM - Linear Kernel</td>\n",
       "      <td id=\"T_a3f95_row12_col1\" class=\"data row12 col1\" >0.7944</td>\n",
       "      <td id=\"T_a3f95_row12_col2\" class=\"data row12 col2\" >0.0000</td>\n",
       "      <td id=\"T_a3f95_row12_col3\" class=\"data row12 col3\" >0.3837</td>\n",
       "      <td id=\"T_a3f95_row12_col4\" class=\"data row12 col4\" >0.7453</td>\n",
       "      <td id=\"T_a3f95_row12_col5\" class=\"data row12 col5\" >0.4166</td>\n",
       "      <td id=\"T_a3f95_row12_col6\" class=\"data row12 col6\" >0.3318</td>\n",
       "      <td id=\"T_a3f95_row12_col7\" class=\"data row12 col7\" >0.3837</td>\n",
       "      <td id=\"T_a3f95_row12_col8\" class=\"data row12 col8\" >0.0230</td>\n",
       "    </tr>\n",
       "    <tr>\n",
       "      <th id=\"T_a3f95_level0_row13\" class=\"row_heading level0 row13\" >nb</th>\n",
       "      <td id=\"T_a3f95_row13_col0\" class=\"data row13 col0\" >Naive Bayes</td>\n",
       "      <td id=\"T_a3f95_row13_col1\" class=\"data row13 col1\" >0.7103</td>\n",
       "      <td id=\"T_a3f95_row13_col2\" class=\"data row13 col2\" >0.7984</td>\n",
       "      <td id=\"T_a3f95_row13_col3\" class=\"data row13 col3\" >0.6763</td>\n",
       "      <td id=\"T_a3f95_row13_col4\" class=\"data row13 col4\" >0.4532</td>\n",
       "      <td id=\"T_a3f95_row13_col5\" class=\"data row13 col5\" >0.5330</td>\n",
       "      <td id=\"T_a3f95_row13_col6\" class=\"data row13 col6\" >0.3405</td>\n",
       "      <td id=\"T_a3f95_row13_col7\" class=\"data row13 col7\" >0.3623</td>\n",
       "      <td id=\"T_a3f95_row13_col8\" class=\"data row13 col8\" >0.0190</td>\n",
       "    </tr>\n",
       "    <tr>\n",
       "      <th id=\"T_a3f95_level0_row14\" class=\"row_heading level0 row14\" >qda</th>\n",
       "      <td id=\"T_a3f95_row14_col0\" class=\"data row14 col0\" >Quadratic Discriminant Analysis</td>\n",
       "      <td id=\"T_a3f95_row14_col1\" class=\"data row14 col1\" >0.4372</td>\n",
       "      <td id=\"T_a3f95_row14_col2\" class=\"data row14 col2\" >0.5465</td>\n",
       "      <td id=\"T_a3f95_row14_col3\" class=\"data row14 col3\" >0.7614</td>\n",
       "      <td id=\"T_a3f95_row14_col4\" class=\"data row14 col4\" >0.2695</td>\n",
       "      <td id=\"T_a3f95_row14_col5\" class=\"data row14 col5\" >0.3945</td>\n",
       "      <td id=\"T_a3f95_row14_col6\" class=\"data row14 col6\" >0.0577</td>\n",
       "      <td id=\"T_a3f95_row14_col7\" class=\"data row14 col7\" >0.0937</td>\n",
       "      <td id=\"T_a3f95_row14_col8\" class=\"data row14 col8\" >0.0180</td>\n",
       "    </tr>\n",
       "  </tbody>\n",
       "</table>\n"
      ],
      "text/plain": [
       "<pandas.io.formats.style.Styler at 0x7fd0fdbb99d0>"
      ]
     },
     "metadata": {},
     "output_type": "display_data"
    },
    {
     "name": "stderr",
     "output_type": "stream",
     "text": [
      "INFO:logs:create_model_container: 30\n",
      "INFO:logs:master_model_container: 30\n",
      "INFO:logs:display_container: 2\n",
      "INFO:logs:GradientBoostingClassifier(ccp_alpha=0.0, criterion='friedman_mse', init=None,\n",
      "                           learning_rate=0.1, loss='log_loss', max_depth=3,\n",
      "                           max_features=None, max_leaf_nodes=None,\n",
      "                           min_impurity_decrease=0.0, min_samples_leaf=1,\n",
      "                           min_samples_split=2, min_weight_fraction_leaf=0.0,\n",
      "                           n_estimators=100, n_iter_no_change=None,\n",
      "                           random_state=42, subsample=1.0, tol=0.0001,\n",
      "                           validation_fraction=0.1, verbose=0,\n",
      "                           warm_start=False)\n",
      "INFO:logs:compare_models() succesfully completed......................................\n"
     ]
    },
    {
     "name": "stdout",
     "output_type": "stream",
     "text": [
      "Best model found: GradientBoostingClassifier(ccp_alpha=0.0, criterion='friedman_mse', init=None,\n",
      "                           learning_rate=0.1, loss='log_loss', max_depth=3,\n",
      "                           max_features=None, max_leaf_nodes=None,\n",
      "                           min_impurity_decrease=0.0, min_samples_leaf=1,\n",
      "                           min_samples_split=2, min_weight_fraction_leaf=0.0,\n",
      "                           n_estimators=100, n_iter_no_change=None,\n",
      "                           random_state=42, subsample=1.0, tol=0.0001,\n",
      "                           validation_fraction=0.1, verbose=0,\n",
      "                           warm_start=False)\n"
     ]
    }
   ],
   "source": [
    "#compare and check best model. Best is Gradient Boosting Classifier.\n",
    "best_model = compare_models()\n",
    "print(f'Best model found: {best_model}')"
   ]
  },
  {
   "cell_type": "code",
   "execution_count": 174,
   "id": "02f48ac7",
   "metadata": {
    "ExecuteTime": {
     "end_time": "2022-09-15T15:28:37.545349Z",
     "start_time": "2022-09-15T15:28:36.961464Z"
    }
   },
   "outputs": [
    {
     "data": {
      "image/png": "[encoded data removed]",
      "text/plain": [
       "<Figure size 800x500 with 1 Axes>"
      ]
     },
     "metadata": {},
     "output_type": "display_data"
    },
    {
     "name": "stderr",
     "output_type": "stream",
     "text": [
      "INFO:logs:Visual Rendered Successfully\n",
      "INFO:logs:plot_model() succesfully completed......................................\n"
     ]
    },
    {
     "data": {
      "text/plain": [
       "<Figure size 576x396 with 0 Axes>"
      ]
     },
     "metadata": {},
     "output_type": "display_data"
    }
   ],
   "source": [
    "# plot feature importance to check variable importance on selected best model (FlightPhase_1 = Landing, FlighPhase_0 = Take off)\n",
    "plot_model(best_model, plot='feature')\n",
    "plt.savefig('feature_importance.png')\n",
    "plt.show()"
   ]
  },
  {
   "cell_type": "code",
   "execution_count": 112,
   "id": "1d1aae9a",
   "metadata": {
    "ExecuteTime": {
     "end_time": "2022-09-15T14:47:08.135033Z",
     "start_time": "2022-09-15T14:47:07.612565Z"
    }
   },
   "outputs": [
    {
     "data": {
      "image/png": "[encoded data removed]",
      "text/plain": [
       "<Figure size 576x396 with 1 Axes>"
      ]
     },
     "metadata": {},
     "output_type": "display_data"
    },
    {
     "name": "stderr",
     "output_type": "stream",
     "text": [
      "INFO:logs:Visual Rendered Successfully\n",
      "INFO:logs:plot_model() succesfully completed......................................\n"
     ]
    }
   ],
   "source": [
    "#plot confusion matrix check best model performance (Gradient Boosting Classifier)\n",
    "plot_model(best_model, plot='confusion_matrix')\n",
    "plt.show()"
   ]
  }
 ],
 "metadata": {
  "kernelspec": {
   "display_name": "pycaret_july_2022",
   "language": "python",
   "name": "yourenvname"
  },
  "language_info": {
   "codemirror_mode": {
    "name": "ipython",
    "version": 3
   },
   "file_extension": ".py",
   "mimetype": "text/x-python",
   "name": "python",
   "nbconvert_exporter": "python",
   "pygments_lexer": "ipython3",
   "version": "3.9.7"
  },
  "toc": {
   "base_numbering": 1,
   "nav_menu": {},
   "number_sections": true,
   "sideBar": true,
   "skip_h1_title": false,
   "title_cell": "Table of Contents",
   "title_sidebar": "Contents",
   "toc_cell": false,
   "toc_position": {},
   "toc_section_display": true,
   "toc_window_display": false
  }
 },
 "nbformat": 4,
 "nbformat_minor": 5
}
